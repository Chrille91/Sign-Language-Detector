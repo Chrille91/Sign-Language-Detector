{
 "cells": [
  {
   "cell_type": "markdown",
   "metadata": {},
   "source": [
    "## Explanation\n",
    "\n",
    "X.npy: This file contains the features (keypoints) for all sequences. It is a 3D numpy array with the shape (num_sequences, sequence_length, num_features).\n",
    "\n",
    "num_sequences: Total number of sequences (videos).  \n",
    "sequence_length: Number of frames per sequence.  \n",
    "num_features: Number of keypoints per frame (e.g., 258 if facemesh is excluded).  \n",
    "y.npy: This file contains the labels for all sequences. It is a 2D numpy array with the shape (num_sequences, num_classes).  \n",
    "\n",
    "num_sequences: Total number of sequences (videos).  \n",
    "num_classes: Number of action classes (one-hot encoded).  \n",
    "\n",
    "## Steps\n",
    "\n",
    "Load the Datasets: Load both the original and augmented X.npy and y.npy files.\n",
    "Combine the Arrays: Concatenate the arrays along the first dimension (num_sequences).\n",
    "Save the Combined Arrays: Save the combined arrays as new .npy files."
   ]
  },
  {
   "cell_type": "code",
   "execution_count": 1,
   "metadata": {},
   "outputs": [
    {
     "name": "stdout",
     "output_type": "stream",
     "text": [
      "Combined X shape: (3060, 30, 258)\n",
      "Combined y shape: (3060, 17)\n",
      "Combined data saved successfully in C:\\Users\\Cr4sZ\\Github\\Sign-Language-Detector\\combined_keypoints.\n"
     ]
    }
   ],
   "source": [
    "import numpy as np\n",
    "import os\n",
    "\n",
    "# Define paths to the data directories\n",
    "PROJECT_PATH = r\"C:\\Users\\Cr4sZ\\Github\\Sign-Language-Detector\"  # Update this to your actual data path\n",
    "original_data_path = os.path.join(PROJECT_PATH, 'bowmore_data')\n",
    "augmented_data_path = os.path.join(PROJECT_PATH, 'augmentation_keypoints')\n",
    "combined_data_path = os.path.join(PROJECT_PATH, 'combined_keypoints')\n",
    "\n",
    "# Ensure the combined data path exists\n",
    "os.makedirs(combined_data_path, exist_ok=True)\n",
    "\n",
    "# Load the original data\n",
    "X_original = np.load(os.path.join(original_data_path, 'X_bowmore.npy'))\n",
    "y_original = np.load(os.path.join(original_data_path, 'y_bowmore.npy'))\n",
    "\n",
    "# Load the augmented data\n",
    "X_augmented = np.load(os.path.join(augmented_data_path, 'X_augmented.npy'))\n",
    "y_augmented = np.load(os.path.join(augmented_data_path, 'y_augmented.npy'))\n",
    "\n",
    "# Combine the features and labels\n",
    "X_combined = np.concatenate((X_original, X_augmented), axis=0)\n",
    "y_combined = np.concatenate((y_original, y_augmented), axis=0)\n",
    "\n",
    "# Print the shapes to verify\n",
    "print(\"Combined X shape:\", X_combined.shape)\n",
    "print(\"Combined y shape:\", y_combined.shape)\n",
    "\n",
    "# Save the combined data\n",
    "np.save(os.path.join(combined_data_path, 'X_combined.npy'), X_combined)\n",
    "np.save(os.path.join(combined_data_path, 'y_combined.npy'), y_combined)\n",
    "\n",
    "print(f\"Combined data saved successfully in {combined_data_path}.\")"
   ]
  }
 ],
 "metadata": {
  "kernelspec": {
   "display_name": "base",
   "language": "python",
   "name": "python3"
  },
  "language_info": {
   "codemirror_mode": {
    "name": "ipython",
    "version": 3
   },
   "file_extension": ".py",
   "mimetype": "text/x-python",
   "name": "python",
   "nbconvert_exporter": "python",
   "pygments_lexer": "ipython3",
   "version": "3.11.5"
  }
 },
 "nbformat": 4,
 "nbformat_minor": 2
}
