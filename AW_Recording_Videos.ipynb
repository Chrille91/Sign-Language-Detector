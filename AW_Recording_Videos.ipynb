{
  "cells": [
    {
      "cell_type": "markdown",
      "metadata": {
        "id": "gqnDCQOP-TiS"
      },
      "source": [
        "# 1. Import and Install Dependencies"
      ]
    },
    {
      "cell_type": "code",
      "execution_count": 1,
      "metadata": {
        "id": "Ie3Oks2O-TiW"
      },
      "outputs": [],
      "source": [
        "# !pip install tensorflow==2.4.1 tensorflow-gpu==2.4.1 opencv-python mediapipe sklearn matplotlib"
      ]
    },
    {
      "cell_type": "code",
      "execution_count": 2,
      "metadata": {},
      "outputs": [],
      "source": [
        "#test"
      ]
    },
    {
      "cell_type": "code",
      "execution_count": 3,
      "metadata": {
        "id": "LamSnWch-TiW"
      },
      "outputs": [],
      "source": [
        "import cv2\n",
        "import numpy as np\n",
        "import os\n",
        "from matplotlib import pyplot as plt\n",
        "import time\n",
        "import mediapipe as mp"
      ]
    },
    {
      "cell_type": "code",
      "execution_count": 4,
      "metadata": {},
      "outputs": [],
      "source": [
        "import importlib # for reloading .py files\n",
        "# WARNING: updates of config may require restart of kernel if reload is unsuccessful\n",
        "\n",
        "import config\n",
        "# reload config without restarting the kernel\n",
        "importlib.reload(config)\n",
        "from config import actions, no_sequences, sequence_length, DATA_PATH\n",
        "\n",
        "import utils\n",
        "# reload utils without restarting the kernel\n",
        "importlib.reload(utils)\n",
        "from utils import mediapipe_detection, extract_keypoints, draw_styled_landmarks, prob_viz"
      ]
    },
    {
      "cell_type": "code",
      "execution_count": null,
      "metadata": {},
      "outputs": [],
      "source": []
    },
    {
      "cell_type": "markdown",
      "metadata": {
        "id": "ctNtJQMy-TiX"
      },
      "source": [
        "# 2. Keypoints using MP Holistic"
      ]
    },
    {
      "cell_type": "code",
      "execution_count": 5,
      "metadata": {
        "id": "AGOQiml--TiX"
      },
      "outputs": [],
      "source": [
        "from utils import mp_holistic, mp_drawing, set_camera_settings, default_fps"
      ]
    },
    {
      "cell_type": "markdown",
      "metadata": {
        "id": "lYqNAByp-Tic"
      },
      "source": [
        "# 4. Setup Folders for Collection"
      ]
    },
    {
      "cell_type": "code",
      "execution_count": 6,
      "metadata": {},
      "outputs": [],
      "source": [
        "# create folders\n",
        "\n"
      ]
    },
    {
      "cell_type": "code",
      "execution_count": null,
      "metadata": {},
      "outputs": [],
      "source": []
    },
    {
      "cell_type": "code",
      "execution_count": 7,
      "metadata": {},
      "outputs": [],
      "source": [
        "data_identifier = '1'\n",
        "\n",
        "DATA_PATH = os.path.join(f\"{data_identifier}_data\", 'npy')\n",
        "\n",
        "for action in actions:\n",
        "    for sequence in range(no_sequences):\n",
        "        try:\n",
        "            os.makedirs(os.path.join(DATA_PATH, action, str(sequence)))\n",
        "        except:\n",
        "            pass\n",
        "\n",
        "VIDEO_PATH = os.path.join(f\"{data_identifier}_data\", 'videos')\n",
        "\n",
        "for action in actions:\n",
        "\n",
        "    try:\n",
        "        os.makedirs(os.path.join(VIDEO_PATH, action))\n",
        "    except:\n",
        "        pass"
      ]
    },
    {
      "cell_type": "markdown",
      "metadata": {
        "id": "g2k5Yebh-Tic"
      },
      "source": [
        "# 5. Collect Keypoint Values - AND VIDEOS - for Training and Testing"
      ]
    },
    {
      "cell_type": "code",
      "execution_count": 8,
      "metadata": {},
      "outputs": [],
      "source": [
        "actions = ['Hi', 'Yes', 'No', 'ThankYou', 'ILoveYou']"
      ]
    },
    {
      "cell_type": "code",
      "execution_count": 9,
      "metadata": {},
      "outputs": [],
      "source": [
        "actions = [actions[0]]"
      ]
    },
    {
      "cell_type": "code",
      "execution_count": 10,
      "metadata": {},
      "outputs": [
        {
          "name": "stdout",
          "output_type": "stream",
          "text": [
            "Requested Resolution: 1280x720, Actual Resolution: 1280x720\n",
            "Requested FPS: 30, Actual FPS: 30.0\n"
          ]
        }
      ],
      "source": [
        "\n",
        "cap = cv2.VideoCapture(1)  # Adjust device index as needed\n",
        "actual_res, actual_fps = set_camera_settings(cap)"
      ]
    },
    {
      "cell_type": "code",
      "execution_count": 12,
      "metadata": {
        "id": "sNIJamOL-Tid",
        "outputId": "eab86dae-5ee9-4068-b226-1434aae89384"
      },
      "outputs": [
        {
          "name": "stderr",
          "output_type": "stream",
          "text": [
            "I0000 00:00:1715623367.420360       1 gl_context.cc:344] GL version: 2.1 (2.1 Metal - 83.1), renderer: Apple M1\n"
          ]
        },
        {
          "name": "stdout",
          "output_type": "stream",
          "text": [
            "Actual FPS: 5.587033586774103\n",
            "Actual FPS: 6.45455167723696\n",
            "Actual FPS: 7.1103987741028485\n",
            "Actual FPS: 5.944194324842463\n",
            "Actual FPS: 7.029078500636292\n",
            "Actual FPS: 6.790471926096915\n",
            "Actual FPS: 6.100191894869519\n",
            "Actual FPS: 6.565580748645489\n",
            "Actual FPS: 6.917253870478812\n"
          ]
        }
      ],
      "source": [
        "import time\n",
        "\n",
        "frame_count = 0\n",
        "fps_list = []\n",
        "start_time = time.time()\n",
        "\n",
        "\n",
        "# Set mediapipe model\n",
        "\n",
        "fourcc = cv2.VideoWriter_fourcc(*'XVID')\n",
        "# out = cv2.VideoWriter('output.avi', fourcc, 10.0, (int(cap.get(3)), int(cap.get(4))))\n",
        "\n",
        "\n",
        "with mp_holistic.Holistic(min_detection_confidence=0.5, min_tracking_confidence=0.5) as holistic:\n",
        "\n",
        "    # Flag variable to signal breaking out of all loops\n",
        "    break_all_loops = False\n",
        "\n",
        "    # Loop through actions\n",
        "    for action in actions:\n",
        "        # Loop through sequences aka videos\n",
        "        for sequence in range(no_sequences):\n",
        "            # fourcc = cv2.VideoWriter_fourcc(*'XVID')\n",
        "            video_file_name = f'{VIDEO_PATH}/{action}/{sequence}.avi'\n",
        "            out = cv2.VideoWriter(video_file_name, fourcc, 10.0, (int(cap.get(3)), int(cap.get(4))))\n",
        "\n",
        "\n",
        "            for frame_num in range(sequence_length):\n",
        "                if break_all_loops:\n",
        "                    break\n",
        "\n",
        "                ret, frame = cap.read()\n",
        "                if not ret:\n",
        "                    print(\"Failed to capture frame\")\n",
        "\n",
        "                    break  # If no frame is read, break out of the loop\n",
        "                \n",
        "\n",
        "\n",
        "\n",
        "                image, results = mediapipe_detection(frame, holistic)\n",
        "\n",
        "                # write in the video file\n",
        "                out.write(image)\n",
        "\n",
        "\n",
        "                draw_styled_landmarks(image, results)\n",
        "\n",
        "                if frame_num == 0:\n",
        "                    for countdown in range(2, 0, -1):\n",
        "                        cv2.putText(image, f'GET READY FOR \"{action}\" in {countdown}', (30,100),\n",
        "                                   cv2.FONT_HERSHEY_SIMPLEX, 1, (0,0, 0), 4, cv2.LINE_AA)\n",
        "                        cv2.imshow('OpenCV Feed', image)\n",
        "                        cv2.waitKey(1000)\n",
        "                        image = frame.copy()  # Reset image to clean frame\n",
        "                else:\n",
        "                    cv2.putText(image, f'RECORDING [{sequence + 1}/{no_sequences}] \"{action}\" - Frame {frame_num + 1}/{sequence_length}', (30,100),\n",
        "                               cv2.FONT_HERSHEY_SIMPLEX, 1, (0,0, 255), 4, cv2.LINE_AA)\n",
        "                    cv2.imshow('OpenCV Feed', image)\n",
        "\n",
        "                keypoints = extract_keypoints(results)\n",
        "                npy_path = os.path.join(DATA_PATH, action, str(sequence), str(frame_num))\n",
        "                np.save(npy_path, keypoints)\n",
        "\n",
        "                frame_count += 1\n",
        "\n",
        "                if frame_count % 100 == 0:\n",
        "                    end_time = time.time()\n",
        "                    elapsed = end_time - start_time\n",
        "                    actual_fps = frame_count / elapsed\n",
        "                    fps_list.append(actual_fps)\n",
        "                    print(\"Actual FPS:\", actual_fps)\n",
        "                    # Reset timer and counter\n",
        "                    start_time = time.time()\n",
        "                    frame_count = 0\n",
        "\n",
        "                if cv2.waitKey(10) & 0xFF == ord('t'):\n",
        "                    break\n",
        "                if cv2.waitKey(10) & 0xFF == ord('q'):\n",
        "                    break_all_loops = True\n",
        "                    break\n",
        "\n",
        "            out.release()  # This should be here, inside the sequence loop but outside the frame loop\n",
        "\n",
        "        if break_all_loops:\n",
        "            break\n",
        "\n",
        "    cap.release()\n",
        "    cv2.destroyAllWindows()\n",
        "    cv2.waitKey(1)\n"
      ]
    },
    {
      "cell_type": "code",
      "execution_count": 13,
      "metadata": {},
      "outputs": [
        {
          "data": {
            "text/plain": [
              "6.499861700409266"
            ]
          },
          "execution_count": 13,
          "metadata": {},
          "output_type": "execute_result"
        }
      ],
      "source": [
        "sum(fps_list) / len(fps_list)"
      ]
    },
    {
      "cell_type": "code",
      "execution_count": 13,
      "metadata": {},
      "outputs": [
        {
          "data": {
            "text/plain": [
              "[6.292873280920329,\n",
              " 6.651729536047263,\n",
              " 5.727258835325755,\n",
              " 11.471795841559342,\n",
              " 9.863759697661227]"
            ]
          },
          "execution_count": 13,
          "metadata": {},
          "output_type": "execute_result"
        }
      ],
      "source": [
        "# fps_list\n",
        "# [6.292873280920329,\n",
        "#  6.651729536047263,\n",
        "#  5.727258835325755,\n",
        "#  11.471795841559342,\n",
        "#  9.863759697661227]"
      ]
    },
    {
      "cell_type": "code",
      "execution_count": null,
      "metadata": {
        "id": "83xeAZml-Tid"
      },
      "outputs": [],
      "source": [
        "cap.release()\n",
        "cv2.destroyAllWindows()"
      ]
    }
  ],
  "metadata": {
    "colab": {
      "provenance": []
    },
    "kernelspec": {
      "display_name": "venv39",
      "language": "python",
      "name": "python3"
    },
    "language_info": {
      "codemirror_mode": {
        "name": "ipython",
        "version": 3
      },
      "file_extension": ".py",
      "mimetype": "text/x-python",
      "name": "python",
      "nbconvert_exporter": "python",
      "pygments_lexer": "ipython3",
      "version": "3.9.19"
    }
  },
  "nbformat": 4,
  "nbformat_minor": 0
}
