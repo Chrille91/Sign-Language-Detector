{
 "cells": [
  {
   "cell_type": "markdown",
   "metadata": {},
   "source": [
    "Resources Used\n",
    "- wget.download('https://tensorflow-object-detection-api-tutorial.readthedocs.io/en/latest/_downloads/da4babe668a8afb093cc7776d7e630f3/generate_tfrecord.py')\n",
    "- Setup https://tensorflow-object-detection-api-tutorial.readthedocs.io/en/latest/install.html"
   ]
  },
  {
   "cell_type": "markdown",
   "metadata": {},
   "source": [
    "# 0. Setup Paths"
   ]
  },
  {
   "cell_type": "code",
   "execution_count": 11,
   "metadata": {},
   "outputs": [],
   "source": [
    "import os\n",
    "\n",
    "WORKSPACE_PATH = r'Tensorflow\\workspace'\n",
    "SCRIPTS_PATH = r'Tensorflow\\scripts'\n",
    "APIMODEL_PATH = r'Tensorflow\\models'\n",
    "ANNOTATION_PATH = WORKSPACE_PATH + r'\\annotations'\n",
    "IMAGE_PATH = WORKSPACE_PATH + r'\\images'\n",
    "MODEL_PATH = WORKSPACE_PATH + r'\\models'\n",
    "PRETRAINED_MODEL_PATH = WORKSPACE_PATH + r'\\pre-trained-models'\n",
    "CONFIG_PATH = MODEL_PATH + r'\\my_ssd_mobnet\\pipeline.config'\n",
    "CHECKPOINT_PATH = MODEL_PATH + r'\\my_ssd_mobnet\\\\'\n",
    "\n",
    "generate_tfrecord = os.path.join(SCRIPTS_PATH, 'generate_tfrecord.py')\n",
    "train_image_path = os.path.join(IMAGE_PATH, 'train')\n",
    "test_image_path = os.path.join(IMAGE_PATH, 'test')\n",
    "label_map = os.path.join(ANNOTATION_PATH, 'label_map.pbtxt')\n",
    "train_record = os.path.join(ANNOTATION_PATH, 'train.record')\n",
    "test_record = os.path.join(ANNOTATION_PATH, 'test.record')"
   ]
  },
  {
   "cell_type": "markdown",
   "metadata": {},
   "source": [
    "# 1. Create Label Map"
   ]
  },
  {
   "cell_type": "code",
   "execution_count": 2,
   "metadata": {},
   "outputs": [],
   "source": [
    "labels = [\n",
    "    {'name':'Hello', 'id':1}, \n",
    "    {'name':'Yes', 'id':2},\n",
    "    {'name':'No', 'id':3},\n",
    "    {'name':'Thank You', 'id':4},\n",
    "    {'name':'I Love You', 'id':5},\n",
    "    {'name':'Peace Among Worlds', 'id':6}\n",
    "    ]\n",
    "\n",
    "with open(ANNOTATION_PATH + '\\label_map.pbtxt', 'w') as f:\n",
    "    for label in labels:\n",
    "        f.write('item { \\n')\n",
    "        f.write('\\tname:\\'{}\\'\\n'.format(label['name']))\n",
    "        f.write('\\tid:{}\\n'.format(label['id']))\n",
    "        f.write('}\\n')"
   ]
  },
  {
   "cell_type": "markdown",
   "metadata": {},
   "source": [
    "# 2. Create TF (tensorflow) records"
   ]
  },
  {
   "cell_type": "code",
   "execution_count": 12,
   "metadata": {},
   "outputs": [
    {
     "name": "stderr",
     "output_type": "stream",
     "text": [
      "Traceback (most recent call last):\n",
      "  File \"c:\\Users\\Cr4sZ\\Github\\Sign-Language-Detector\\Tensorflow\\scripts\\generate_tfrecord.py\", line 29, in <module>\n",
      "    from object_detection.utils import dataset_util, label_map_util\n",
      "  File \"c:\\Users\\Cr4sZ\\anaconda3\\Lib\\site-packages\\object_detection\\utils\\label_map_util.py\", line 21, in <module>\n",
      "    from object_detection.protos import string_int_label_map_pb2\n",
      "ImportError: cannot import name 'string_int_label_map_pb2' from 'object_detection.protos' (c:\\Users\\Cr4sZ\\anaconda3\\Lib\\site-packages\\object_detection\\protos\\__init__.py)\n",
      "Traceback (most recent call last):\n",
      "  File \"c:\\Users\\Cr4sZ\\Github\\Sign-Language-Detector\\Tensorflow\\scripts\\generate_tfrecord.py\", line 29, in <module>\n",
      "    from object_detection.utils import dataset_util, label_map_util\n",
      "  File \"c:\\Users\\Cr4sZ\\anaconda3\\Lib\\site-packages\\object_detection\\utils\\label_map_util.py\", line 21, in <module>\n",
      "    from object_detection.protos import string_int_label_map_pb2\n",
      "ImportError: cannot import name 'string_int_label_map_pb2' from 'object_detection.protos' (c:\\Users\\Cr4sZ\\anaconda3\\Lib\\site-packages\\object_detection\\protos\\__init__.py)\n"
     ]
    }
   ],
   "source": [
    "!python {generate_tfrecord} -x {train_image_path} -l {label_map} -o {train_record}\n",
    "!python {generate_tfrecord} -x {test_image_path} -l {label_map} -o {test_record}"
   ]
  },
  {
   "cell_type": "code",
   "execution_count": null,
   "metadata": {},
   "outputs": [],
   "source": [
    "import os\n",
    "\n",
    "generate_tfrecord = os.path.join(SCRIPTS_PATH, 'generate_tfrecord.py')\n",
    "train_image_path = os.path.join(IMAGE_PATH, 'train')\n",
    "test_image_path = os.path.join(IMAGE_PATH, 'test')\n",
    "label_map = os.path.join(ANNOTATION_PATH, 'label_map.pbtxt')\n",
    "train_record = os.path.join(ANNOTATION_PATH, 'train.record')\n",
    "test_record = os.path.join(ANNOTATION_PATH, 'test.record')\n",
    "\n",
    "!python {generate_tfrecord} -x {train_image_path} -l {label_map} -o {train_record}\n",
    "!python {generate_tfrecord} -x {test_image_path} -l {label_map} -o {test_record}"
   ]
  },
  {
   "cell_type": "code",
   "execution_count": 7,
   "metadata": {},
   "outputs": [
    {
     "name": "stdout",
     "output_type": "stream",
     "text": [
      "Collecting object-detection\n",
      "  Obtaining dependency information for object-detection from https://files.pythonhosted.org/packages/b7/37/24d57adb29a0242aca08b99cb2ad08c2b427c05c988f169622c401a6f9ed/object_detection-0.0.3-py3-none-any.whl.metadata\n",
      "  Downloading object_detection-0.0.3-py3-none-any.whl.metadata (12 kB)\n",
      "Requirement already satisfied: tensorflow in c:\\users\\cr4sz\\anaconda3\\lib\\site-packages (from object-detection) (2.16.1)\n",
      "Requirement already satisfied: Cython in c:\\users\\cr4sz\\anaconda3\\lib\\site-packages (from object-detection) (3.0.10)\n",
      "Collecting contextlib2 (from object-detection)\n",
      "  Obtaining dependency information for contextlib2 from https://files.pythonhosted.org/packages/76/56/6d6872f79d14c0cb02f1646cbb4592eef935857c0951a105874b7b62a0c3/contextlib2-21.6.0-py2.py3-none-any.whl.metadata\n",
      "  Downloading contextlib2-21.6.0-py2.py3-none-any.whl.metadata (4.1 kB)\n",
      "Requirement already satisfied: pillow in c:\\users\\cr4sz\\anaconda3\\lib\\site-packages (from object-detection) (10.0.1)\n",
      "Requirement already satisfied: lxml in c:\\users\\cr4sz\\anaconda3\\lib\\site-packages (from object-detection) (4.9.3)\n",
      "Requirement already satisfied: jupyter in c:\\users\\cr4sz\\anaconda3\\lib\\site-packages (from object-detection) (1.0.0)\n",
      "Requirement already satisfied: matplotlib in c:\\users\\cr4sz\\anaconda3\\lib\\site-packages (from object-detection) (3.7.2)\n",
      "Requirement already satisfied: notebook in c:\\users\\cr4sz\\anaconda3\\lib\\site-packages (from jupyter->object-detection) (6.5.4)\n",
      "Requirement already satisfied: qtconsole in c:\\users\\cr4sz\\anaconda3\\lib\\site-packages (from jupyter->object-detection) (5.4.2)\n",
      "Requirement already satisfied: jupyter-console in c:\\users\\cr4sz\\anaconda3\\lib\\site-packages (from jupyter->object-detection) (6.6.3)\n",
      "Requirement already satisfied: nbconvert in c:\\users\\cr4sz\\anaconda3\\lib\\site-packages (from jupyter->object-detection) (6.5.4)\n",
      "Requirement already satisfied: ipykernel in c:\\users\\cr4sz\\anaconda3\\lib\\site-packages (from jupyter->object-detection) (6.25.0)\n",
      "Requirement already satisfied: ipywidgets in c:\\users\\cr4sz\\anaconda3\\lib\\site-packages (from jupyter->object-detection) (8.0.4)\n",
      "Requirement already satisfied: contourpy>=1.0.1 in c:\\users\\cr4sz\\anaconda3\\lib\\site-packages (from matplotlib->object-detection) (1.0.5)\n",
      "Requirement already satisfied: cycler>=0.10 in c:\\users\\cr4sz\\anaconda3\\lib\\site-packages (from matplotlib->object-detection) (0.11.0)\n",
      "Requirement already satisfied: fonttools>=4.22.0 in c:\\users\\cr4sz\\anaconda3\\lib\\site-packages (from matplotlib->object-detection) (4.25.0)\n",
      "Requirement already satisfied: kiwisolver>=1.0.1 in c:\\users\\cr4sz\\anaconda3\\lib\\site-packages (from matplotlib->object-detection) (1.4.4)\n",
      "Requirement already satisfied: numpy>=1.20 in c:\\users\\cr4sz\\anaconda3\\lib\\site-packages (from matplotlib->object-detection) (1.24.3)\n",
      "Requirement already satisfied: packaging>=20.0 in c:\\users\\cr4sz\\anaconda3\\lib\\site-packages (from matplotlib->object-detection) (23.2)\n",
      "Requirement already satisfied: pyparsing<3.1,>=2.3.1 in c:\\users\\cr4sz\\anaconda3\\lib\\site-packages (from matplotlib->object-detection) (3.0.9)\n",
      "Requirement already satisfied: python-dateutil>=2.7 in c:\\users\\cr4sz\\anaconda3\\lib\\site-packages (from matplotlib->object-detection) (2.8.2)\n",
      "Requirement already satisfied: tensorflow-intel==2.16.1 in c:\\users\\cr4sz\\anaconda3\\lib\\site-packages (from tensorflow->object-detection) (2.16.1)\n",
      "Requirement already satisfied: absl-py>=1.0.0 in c:\\users\\cr4sz\\anaconda3\\lib\\site-packages (from tensorflow-intel==2.16.1->tensorflow->object-detection) (2.1.0)\n",
      "Requirement already satisfied: astunparse>=1.6.0 in c:\\users\\cr4sz\\anaconda3\\lib\\site-packages (from tensorflow-intel==2.16.1->tensorflow->object-detection) (1.6.3)\n",
      "Requirement already satisfied: flatbuffers>=23.5.26 in c:\\users\\cr4sz\\anaconda3\\lib\\site-packages (from tensorflow-intel==2.16.1->tensorflow->object-detection) (24.3.25)\n",
      "Requirement already satisfied: gast!=0.5.0,!=0.5.1,!=0.5.2,>=0.2.1 in c:\\users\\cr4sz\\anaconda3\\lib\\site-packages (from tensorflow-intel==2.16.1->tensorflow->object-detection) (0.5.4)\n",
      "Requirement already satisfied: google-pasta>=0.1.1 in c:\\users\\cr4sz\\anaconda3\\lib\\site-packages (from tensorflow-intel==2.16.1->tensorflow->object-detection) (0.2.0)\n",
      "Requirement already satisfied: h5py>=3.10.0 in c:\\users\\cr4sz\\anaconda3\\lib\\site-packages (from tensorflow-intel==2.16.1->tensorflow->object-detection) (3.11.0)\n",
      "Requirement already satisfied: libclang>=13.0.0 in c:\\users\\cr4sz\\anaconda3\\lib\\site-packages (from tensorflow-intel==2.16.1->tensorflow->object-detection) (18.1.1)\n",
      "Requirement already satisfied: ml-dtypes~=0.3.1 in c:\\users\\cr4sz\\anaconda3\\lib\\site-packages (from tensorflow-intel==2.16.1->tensorflow->object-detection) (0.3.2)\n",
      "Requirement already satisfied: opt-einsum>=2.3.2 in c:\\users\\cr4sz\\anaconda3\\lib\\site-packages (from tensorflow-intel==2.16.1->tensorflow->object-detection) (3.3.0)\n",
      "Requirement already satisfied: protobuf!=4.21.0,!=4.21.1,!=4.21.2,!=4.21.3,!=4.21.4,!=4.21.5,<5.0.0dev,>=3.20.3 in c:\\users\\cr4sz\\anaconda3\\lib\\site-packages (from tensorflow-intel==2.16.1->tensorflow->object-detection) (4.25.3)\n",
      "Requirement already satisfied: requests<3,>=2.21.0 in c:\\users\\cr4sz\\anaconda3\\lib\\site-packages (from tensorflow-intel==2.16.1->tensorflow->object-detection) (2.31.0)\n",
      "Requirement already satisfied: setuptools in c:\\users\\cr4sz\\anaconda3\\lib\\site-packages (from tensorflow-intel==2.16.1->tensorflow->object-detection) (68.0.0)\n",
      "Requirement already satisfied: six>=1.12.0 in c:\\users\\cr4sz\\anaconda3\\lib\\site-packages (from tensorflow-intel==2.16.1->tensorflow->object-detection) (1.16.0)\n",
      "Requirement already satisfied: termcolor>=1.1.0 in c:\\users\\cr4sz\\anaconda3\\lib\\site-packages (from tensorflow-intel==2.16.1->tensorflow->object-detection) (2.4.0)\n",
      "Requirement already satisfied: typing-extensions>=3.6.6 in c:\\users\\cr4sz\\anaconda3\\lib\\site-packages (from tensorflow-intel==2.16.1->tensorflow->object-detection) (4.7.1)\n",
      "Requirement already satisfied: wrapt>=1.11.0 in c:\\users\\cr4sz\\anaconda3\\lib\\site-packages (from tensorflow-intel==2.16.1->tensorflow->object-detection) (1.14.1)\n",
      "Requirement already satisfied: grpcio<2.0,>=1.24.3 in c:\\users\\cr4sz\\anaconda3\\lib\\site-packages (from tensorflow-intel==2.16.1->tensorflow->object-detection) (1.63.0)\n",
      "Requirement already satisfied: tensorboard<2.17,>=2.16 in c:\\users\\cr4sz\\anaconda3\\lib\\site-packages (from tensorflow-intel==2.16.1->tensorflow->object-detection) (2.16.2)\n",
      "Requirement already satisfied: keras>=3.0.0 in c:\\users\\cr4sz\\anaconda3\\lib\\site-packages (from tensorflow-intel==2.16.1->tensorflow->object-detection) (3.3.3)\n",
      "Requirement already satisfied: tensorflow-io-gcs-filesystem>=0.23.1 in c:\\users\\cr4sz\\anaconda3\\lib\\site-packages (from tensorflow-intel==2.16.1->tensorflow->object-detection) (0.31.0)\n",
      "Requirement already satisfied: comm>=0.1.1 in c:\\users\\cr4sz\\anaconda3\\lib\\site-packages (from ipykernel->jupyter->object-detection) (0.1.2)\n",
      "Requirement already satisfied: debugpy>=1.6.5 in c:\\users\\cr4sz\\anaconda3\\lib\\site-packages (from ipykernel->jupyter->object-detection) (1.6.7)\n",
      "Requirement already satisfied: ipython>=7.23.1 in c:\\users\\cr4sz\\anaconda3\\lib\\site-packages (from ipykernel->jupyter->object-detection) (8.15.0)\n",
      "Requirement already satisfied: jupyter-client>=6.1.12 in c:\\users\\cr4sz\\anaconda3\\lib\\site-packages (from ipykernel->jupyter->object-detection) (7.4.9)\n",
      "Requirement already satisfied: jupyter-core!=5.0.*,>=4.12 in c:\\users\\cr4sz\\anaconda3\\lib\\site-packages (from ipykernel->jupyter->object-detection) (5.3.0)\n",
      "Requirement already satisfied: matplotlib-inline>=0.1 in c:\\users\\cr4sz\\anaconda3\\lib\\site-packages (from ipykernel->jupyter->object-detection) (0.1.6)\n",
      "Requirement already satisfied: nest-asyncio in c:\\users\\cr4sz\\anaconda3\\lib\\site-packages (from ipykernel->jupyter->object-detection) (1.5.6)\n",
      "Requirement already satisfied: psutil in c:\\users\\cr4sz\\anaconda3\\lib\\site-packages (from ipykernel->jupyter->object-detection) (5.9.0)\n",
      "Requirement already satisfied: pyzmq>=20 in c:\\users\\cr4sz\\anaconda3\\lib\\site-packages (from ipykernel->jupyter->object-detection) (23.2.0)\n",
      "Requirement already satisfied: tornado>=6.1 in c:\\users\\cr4sz\\anaconda3\\lib\\site-packages (from ipykernel->jupyter->object-detection) (6.3.2)\n",
      "Requirement already satisfied: traitlets>=5.4.0 in c:\\users\\cr4sz\\anaconda3\\lib\\site-packages (from ipykernel->jupyter->object-detection) (5.7.1)\n",
      "Requirement already satisfied: widgetsnbextension~=4.0 in c:\\users\\cr4sz\\anaconda3\\lib\\site-packages (from ipywidgets->jupyter->object-detection) (4.0.5)\n",
      "Requirement already satisfied: jupyterlab-widgets~=3.0 in c:\\users\\cr4sz\\anaconda3\\lib\\site-packages (from ipywidgets->jupyter->object-detection) (3.0.5)\n",
      "Requirement already satisfied: prompt-toolkit>=3.0.30 in c:\\users\\cr4sz\\anaconda3\\lib\\site-packages (from jupyter-console->jupyter->object-detection) (3.0.36)\n",
      "Requirement already satisfied: pygments in c:\\users\\cr4sz\\anaconda3\\lib\\site-packages (from jupyter-console->jupyter->object-detection) (2.15.1)\n",
      "Requirement already satisfied: beautifulsoup4 in c:\\users\\cr4sz\\anaconda3\\lib\\site-packages (from nbconvert->jupyter->object-detection) (4.12.2)\n",
      "Requirement already satisfied: bleach in c:\\users\\cr4sz\\anaconda3\\lib\\site-packages (from nbconvert->jupyter->object-detection) (5.0.1)\n",
      "Requirement already satisfied: defusedxml in c:\\users\\cr4sz\\anaconda3\\lib\\site-packages (from nbconvert->jupyter->object-detection) (0.7.1)\n",
      "Requirement already satisfied: entrypoints>=0.2.2 in c:\\users\\cr4sz\\anaconda3\\lib\\site-packages (from nbconvert->jupyter->object-detection) (0.4)\n",
      "Requirement already satisfied: jinja2>=3.0 in c:\\users\\cr4sz\\anaconda3\\lib\\site-packages (from nbconvert->jupyter->object-detection) (3.1.2)\n",
      "Requirement already satisfied: jupyterlab-pygments in c:\\users\\cr4sz\\anaconda3\\lib\\site-packages (from nbconvert->jupyter->object-detection) (0.1.2)\n",
      "Requirement already satisfied: MarkupSafe>=2.0 in c:\\users\\cr4sz\\anaconda3\\lib\\site-packages (from nbconvert->jupyter->object-detection) (2.1.1)\n",
      "Requirement already satisfied: mistune<2,>=0.8.1 in c:\\users\\cr4sz\\anaconda3\\lib\\site-packages (from nbconvert->jupyter->object-detection) (0.8.4)\n",
      "Requirement already satisfied: nbclient>=0.5.0 in c:\\users\\cr4sz\\anaconda3\\lib\\site-packages (from nbconvert->jupyter->object-detection) (0.5.13)\n",
      "Requirement already satisfied: nbformat>=5.1 in c:\\users\\cr4sz\\anaconda3\\lib\\site-packages (from nbconvert->jupyter->object-detection) (5.9.2)\n",
      "Requirement already satisfied: pandocfilters>=1.4.1 in c:\\users\\cr4sz\\anaconda3\\lib\\site-packages (from nbconvert->jupyter->object-detection) (1.5.0)\n",
      "Requirement already satisfied: tinycss2 in c:\\users\\cr4sz\\anaconda3\\lib\\site-packages (from nbconvert->jupyter->object-detection) (1.2.1)\n",
      "Requirement already satisfied: argon2-cffi in c:\\users\\cr4sz\\anaconda3\\lib\\site-packages (from notebook->jupyter->object-detection) (21.3.0)\n",
      "Requirement already satisfied: ipython-genutils in c:\\users\\cr4sz\\anaconda3\\lib\\site-packages (from notebook->jupyter->object-detection) (0.2.0)\n",
      "Requirement already satisfied: Send2Trash>=1.8.0 in c:\\users\\cr4sz\\anaconda3\\lib\\site-packages (from notebook->jupyter->object-detection) (1.8.0)\n",
      "Requirement already satisfied: terminado>=0.8.3 in c:\\users\\cr4sz\\anaconda3\\lib\\site-packages (from notebook->jupyter->object-detection) (0.17.1)\n",
      "Requirement already satisfied: prometheus-client in c:\\users\\cr4sz\\anaconda3\\lib\\site-packages (from notebook->jupyter->object-detection) (0.14.1)\n",
      "Requirement already satisfied: nbclassic>=0.4.7 in c:\\users\\cr4sz\\anaconda3\\lib\\site-packages (from notebook->jupyter->object-detection) (0.5.5)\n",
      "Requirement already satisfied: qtpy>=2.0.1 in c:\\users\\cr4sz\\anaconda3\\lib\\site-packages (from qtconsole->jupyter->object-detection) (2.2.0)\n",
      "Requirement already satisfied: wheel<1.0,>=0.23.0 in c:\\users\\cr4sz\\anaconda3\\lib\\site-packages (from astunparse>=1.6.0->tensorflow-intel==2.16.1->tensorflow->object-detection) (0.38.4)\n",
      "Requirement already satisfied: backcall in c:\\users\\cr4sz\\anaconda3\\lib\\site-packages (from ipython>=7.23.1->ipykernel->jupyter->object-detection) (0.2.0)\n",
      "Requirement already satisfied: decorator in c:\\users\\cr4sz\\anaconda3\\lib\\site-packages (from ipython>=7.23.1->ipykernel->jupyter->object-detection) (5.1.1)\n",
      "Requirement already satisfied: jedi>=0.16 in c:\\users\\cr4sz\\anaconda3\\lib\\site-packages (from ipython>=7.23.1->ipykernel->jupyter->object-detection) (0.18.1)\n",
      "Requirement already satisfied: pickleshare in c:\\users\\cr4sz\\anaconda3\\lib\\site-packages (from ipython>=7.23.1->ipykernel->jupyter->object-detection) (0.7.5)\n",
      "Requirement already satisfied: stack-data in c:\\users\\cr4sz\\anaconda3\\lib\\site-packages (from ipython>=7.23.1->ipykernel->jupyter->object-detection) (0.2.0)\n",
      "Requirement already satisfied: colorama in c:\\users\\cr4sz\\anaconda3\\lib\\site-packages (from ipython>=7.23.1->ipykernel->jupyter->object-detection) (0.4.6)\n",
      "Requirement already satisfied: platformdirs>=2.5 in c:\\users\\cr4sz\\anaconda3\\lib\\site-packages (from jupyter-core!=5.0.*,>=4.12->ipykernel->jupyter->object-detection) (3.10.0)\n",
      "Requirement already satisfied: pywin32>=300 in c:\\users\\cr4sz\\anaconda3\\lib\\site-packages (from jupyter-core!=5.0.*,>=4.12->ipykernel->jupyter->object-detection) (305.1)\n",
      "Requirement already satisfied: rich in c:\\users\\cr4sz\\anaconda3\\lib\\site-packages (from keras>=3.0.0->tensorflow-intel==2.16.1->tensorflow->object-detection) (13.7.1)\n",
      "Requirement already satisfied: namex in c:\\users\\cr4sz\\anaconda3\\lib\\site-packages (from keras>=3.0.0->tensorflow-intel==2.16.1->tensorflow->object-detection) (0.0.8)\n",
      "Requirement already satisfied: optree in c:\\users\\cr4sz\\anaconda3\\lib\\site-packages (from keras>=3.0.0->tensorflow-intel==2.16.1->tensorflow->object-detection) (0.11.0)\n",
      "Requirement already satisfied: jupyter-server>=1.8 in c:\\users\\cr4sz\\anaconda3\\lib\\site-packages (from nbclassic>=0.4.7->notebook->jupyter->object-detection) (1.23.4)\n",
      "Requirement already satisfied: notebook-shim>=0.1.0 in c:\\users\\cr4sz\\anaconda3\\lib\\site-packages (from nbclassic>=0.4.7->notebook->jupyter->object-detection) (0.2.2)\n",
      "Requirement already satisfied: fastjsonschema in c:\\users\\cr4sz\\anaconda3\\lib\\site-packages (from nbformat>=5.1->nbconvert->jupyter->object-detection) (2.16.2)\n",
      "Requirement already satisfied: jsonschema>=2.6 in c:\\users\\cr4sz\\anaconda3\\lib\\site-packages (from nbformat>=5.1->nbconvert->jupyter->object-detection) (3.2.0)\n",
      "Requirement already satisfied: wcwidth in c:\\users\\cr4sz\\anaconda3\\lib\\site-packages (from prompt-toolkit>=3.0.30->jupyter-console->jupyter->object-detection) (0.2.5)\n",
      "Requirement already satisfied: charset-normalizer<4,>=2 in c:\\users\\cr4sz\\anaconda3\\lib\\site-packages (from requests<3,>=2.21.0->tensorflow-intel==2.16.1->tensorflow->object-detection) (2.0.4)\n",
      "Requirement already satisfied: idna<4,>=2.5 in c:\\users\\cr4sz\\anaconda3\\lib\\site-packages (from requests<3,>=2.21.0->tensorflow-intel==2.16.1->tensorflow->object-detection) (3.4)\n",
      "Requirement already satisfied: urllib3<3,>=1.21.1 in c:\\users\\cr4sz\\anaconda3\\lib\\site-packages (from requests<3,>=2.21.0->tensorflow-intel==2.16.1->tensorflow->object-detection) (1.26.18)\n",
      "Requirement already satisfied: certifi>=2017.4.17 in c:\\users\\cr4sz\\anaconda3\\lib\\site-packages (from requests<3,>=2.21.0->tensorflow-intel==2.16.1->tensorflow->object-detection) (2023.11.17)\n",
      "Requirement already satisfied: markdown>=2.6.8 in c:\\users\\cr4sz\\anaconda3\\lib\\site-packages (from tensorboard<2.17,>=2.16->tensorflow-intel==2.16.1->tensorflow->object-detection) (3.4.1)\n",
      "Requirement already satisfied: tensorboard-data-server<0.8.0,>=0.7.0 in c:\\users\\cr4sz\\anaconda3\\lib\\site-packages (from tensorboard<2.17,>=2.16->tensorflow-intel==2.16.1->tensorflow->object-detection) (0.7.2)\n",
      "Requirement already satisfied: werkzeug>=1.0.1 in c:\\users\\cr4sz\\anaconda3\\lib\\site-packages (from tensorboard<2.17,>=2.16->tensorflow-intel==2.16.1->tensorflow->object-detection) (2.2.3)\n",
      "Requirement already satisfied: pywinpty>=1.1.0 in c:\\users\\cr4sz\\anaconda3\\lib\\site-packages (from terminado>=0.8.3->notebook->jupyter->object-detection) (2.0.10)\n",
      "Requirement already satisfied: argon2-cffi-bindings in c:\\users\\cr4sz\\anaconda3\\lib\\site-packages (from argon2-cffi->notebook->jupyter->object-detection) (21.2.0)\n",
      "Requirement already satisfied: soupsieve>1.2 in c:\\users\\cr4sz\\anaconda3\\lib\\site-packages (from beautifulsoup4->nbconvert->jupyter->object-detection) (2.4)\n",
      "Requirement already satisfied: webencodings in c:\\users\\cr4sz\\anaconda3\\lib\\site-packages (from bleach->nbconvert->jupyter->object-detection) (0.5.1)\n",
      "Requirement already satisfied: parso<0.9.0,>=0.8.0 in c:\\users\\cr4sz\\anaconda3\\lib\\site-packages (from jedi>=0.16->ipython>=7.23.1->ipykernel->jupyter->object-detection) (0.8.3)\n",
      "Requirement already satisfied: attrs>=17.4.0 in c:\\users\\cr4sz\\anaconda3\\lib\\site-packages (from jsonschema>=2.6->nbformat>=5.1->nbconvert->jupyter->object-detection) (22.1.0)\n",
      "Requirement already satisfied: pyrsistent>=0.14.0 in c:\\users\\cr4sz\\anaconda3\\lib\\site-packages (from jsonschema>=2.6->nbformat>=5.1->nbconvert->jupyter->object-detection) (0.18.0)\n",
      "Requirement already satisfied: anyio<4,>=3.1.0 in c:\\users\\cr4sz\\anaconda3\\lib\\site-packages (from jupyter-server>=1.8->nbclassic>=0.4.7->notebook->jupyter->object-detection) (3.5.0)\n",
      "Requirement already satisfied: websocket-client in c:\\users\\cr4sz\\anaconda3\\lib\\site-packages (from jupyter-server>=1.8->nbclassic>=0.4.7->notebook->jupyter->object-detection) (0.58.0)\n",
      "Requirement already satisfied: cffi>=1.0.1 in c:\\users\\cr4sz\\anaconda3\\lib\\site-packages (from argon2-cffi-bindings->argon2-cffi->notebook->jupyter->object-detection) (1.15.1)\n",
      "Requirement already satisfied: markdown-it-py>=2.2.0 in c:\\users\\cr4sz\\anaconda3\\lib\\site-packages (from rich->keras>=3.0.0->tensorflow-intel==2.16.1->tensorflow->object-detection) (2.2.0)\n",
      "Requirement already satisfied: executing in c:\\users\\cr4sz\\anaconda3\\lib\\site-packages (from stack-data->ipython>=7.23.1->ipykernel->jupyter->object-detection) (0.8.3)\n",
      "Requirement already satisfied: asttokens in c:\\users\\cr4sz\\anaconda3\\lib\\site-packages (from stack-data->ipython>=7.23.1->ipykernel->jupyter->object-detection) (2.0.5)\n",
      "Requirement already satisfied: pure-eval in c:\\users\\cr4sz\\anaconda3\\lib\\site-packages (from stack-data->ipython>=7.23.1->ipykernel->jupyter->object-detection) (0.2.2)\n",
      "Requirement already satisfied: sniffio>=1.1 in c:\\users\\cr4sz\\anaconda3\\lib\\site-packages (from anyio<4,>=3.1.0->jupyter-server>=1.8->nbclassic>=0.4.7->notebook->jupyter->object-detection) (1.2.0)\n",
      "Requirement already satisfied: pycparser in c:\\users\\cr4sz\\anaconda3\\lib\\site-packages (from cffi>=1.0.1->argon2-cffi-bindings->argon2-cffi->notebook->jupyter->object-detection) (2.21)\n",
      "Requirement already satisfied: mdurl~=0.1 in c:\\users\\cr4sz\\anaconda3\\lib\\site-packages (from markdown-it-py>=2.2.0->rich->keras>=3.0.0->tensorflow-intel==2.16.1->tensorflow->object-detection) (0.1.0)\n",
      "Downloading object_detection-0.0.3-py3-none-any.whl (1.5 MB)\n",
      "   ---------------------------------------- 0.0/1.5 MB ? eta -:--:--\n",
      "   -- ------------------------------------- 0.1/1.5 MB 2.6 MB/s eta 0:00:01\n",
      "   ------------ --------------------------- 0.5/1.5 MB 5.6 MB/s eta 0:00:01\n",
      "   ---------------------------- ----------- 1.0/1.5 MB 9.4 MB/s eta 0:00:01\n",
      "   ---------------------------- ----------- 1.0/1.5 MB 9.4 MB/s eta 0:00:01\n",
      "   ---------------------------- ----------- 1.0/1.5 MB 9.4 MB/s eta 0:00:01\n",
      "   ---------------------------- ----------- 1.0/1.5 MB 9.4 MB/s eta 0:00:01\n",
      "   ---------------------------- ----------- 1.0/1.5 MB 9.4 MB/s eta 0:00:01\n",
      "   ------------------------------------ --- 1.4/1.5 MB 3.8 MB/s eta 0:00:01\n",
      "   ---------------------------------------- 1.5/1.5 MB 3.9 MB/s eta 0:00:00\n",
      "Downloading contextlib2-21.6.0-py2.py3-none-any.whl (13 kB)\n",
      "Installing collected packages: contextlib2, object-detection\n",
      "Successfully installed contextlib2-21.6.0 object-detection-0.0.3\n",
      "Note: you may need to restart the kernel to use updated packages.\n"
     ]
    }
   ],
   "source": [
    "%pip install object-detection"
   ]
  },
  {
   "cell_type": "markdown",
   "metadata": {},
   "source": [
    "# 3. Download TF Models Pretrained Models from Tensorflow Model Zoo"
   ]
  },
  {
   "cell_type": "code",
   "execution_count": 4,
   "metadata": {},
   "outputs": [
    {
     "name": "stderr",
     "output_type": "stream",
     "text": [
      "Cloning into 'models'...\n"
     ]
    }
   ],
   "source": [
    "!cd Tensorflow && git clone https://github.com/tensorflow/models"
   ]
  },
  {
   "cell_type": "code",
   "execution_count": 6,
   "metadata": {},
   "outputs": [],
   "source": [
    "#wget.download('http://download.tensorflow.org/models/object_detection/tf2/20200711/ssd_mobilenet_v2_fpnlite_320x320_coco17_tpu-8.tar.gz')\n",
    "#!mv ssd_mobilenet_v2_fpnlite_320x320_coco17_tpu-8.tar.gz {PRETRAINED_MODEL_PATH}\n",
    "#!cd {PRETRAINED_MODEL_PATH} && tar -zxvf ssd_mobilenet_v2_fpnlite_320x320_coco17_tpu-8.tar.gz"
   ]
  },
  {
   "cell_type": "markdown",
   "metadata": {},
   "source": [
    "# 4. Copy Model Config to Training Folder"
   ]
  },
  {
   "cell_type": "code",
   "execution_count": 7,
   "metadata": {},
   "outputs": [],
   "source": [
    "CUSTOM_MODEL_NAME = 'my_ssd_mobnet' "
   ]
  },
  {
   "cell_type": "code",
   "execution_count": 47,
   "metadata": {},
   "outputs": [
    {
     "name": "stderr",
     "output_type": "stream",
     "text": [
      "A subdirectory or file Tensorflow\\workspace\\models\\my_ssd_mobnet already exists.\n"
     ]
    }
   ],
   "source": [
    "!mkdir {'Tensorflow\\workspace\\models\\\\'+CUSTOM_MODEL_NAME}\n",
    "!cp {PRETRAINED_MODEL_PATH+'/ssd_mobilenet_v2_fpnlite_320x320_coco17_tpu-8/pipeline.config'} {MODEL_PATH+'/'+CUSTOM_MODEL_NAME}"
   ]
  },
  {
   "cell_type": "markdown",
   "metadata": {},
   "source": [
    "# 5. Update Config For Transfer Learning"
   ]
  },
  {
   "cell_type": "code",
   "execution_count": 1,
   "metadata": {},
   "outputs": [],
   "source": [
    "import tensorflow as tf\n",
    "from object_detection.utils import config_util\n",
    "from object_detection.protos import pipeline_pb2\n",
    "from google.protobuf import text_format"
   ]
  },
  {
   "cell_type": "code",
   "execution_count": 8,
   "metadata": {},
   "outputs": [],
   "source": [
    "CONFIG_PATH = MODEL_PATH+'/'+CUSTOM_MODEL_NAME+'/pipeline.config'"
   ]
  },
  {
   "cell_type": "code",
   "execution_count": 55,
   "metadata": {},
   "outputs": [],
   "source": [
    "config = config_util.get_configs_from_pipeline_file(CONFIG_PATH)"
   ]
  },
  {
   "cell_type": "code",
   "execution_count": 56,
   "metadata": {
    "collapsed": true
   },
   "outputs": [
    {
     "data": {
      "text/plain": [
       "{'model': ssd {\n",
       "   num_classes: 2\n",
       "   image_resizer {\n",
       "     fixed_shape_resizer {\n",
       "       height: 320\n",
       "       width: 320\n",
       "     }\n",
       "   }\n",
       "   feature_extractor {\n",
       "     type: \"ssd_mobilenet_v2_fpn_keras\"\n",
       "     depth_multiplier: 1.0\n",
       "     min_depth: 16\n",
       "     conv_hyperparams {\n",
       "       regularizer {\n",
       "         l2_regularizer {\n",
       "           weight: 4e-05\n",
       "         }\n",
       "       }\n",
       "       initializer {\n",
       "         random_normal_initializer {\n",
       "           mean: 0.0\n",
       "           stddev: 0.01\n",
       "         }\n",
       "       }\n",
       "       activation: RELU_6\n",
       "       batch_norm {\n",
       "         decay: 0.997\n",
       "         scale: true\n",
       "         epsilon: 0.001\n",
       "       }\n",
       "     }\n",
       "     use_depthwise: true\n",
       "     override_base_feature_extractor_hyperparams: true\n",
       "     fpn {\n",
       "       min_level: 3\n",
       "       max_level: 7\n",
       "       additional_layer_depth: 128\n",
       "     }\n",
       "   }\n",
       "   box_coder {\n",
       "     faster_rcnn_box_coder {\n",
       "       y_scale: 10.0\n",
       "       x_scale: 10.0\n",
       "       height_scale: 5.0\n",
       "       width_scale: 5.0\n",
       "     }\n",
       "   }\n",
       "   matcher {\n",
       "     argmax_matcher {\n",
       "       matched_threshold: 0.5\n",
       "       unmatched_threshold: 0.5\n",
       "       ignore_thresholds: false\n",
       "       negatives_lower_than_unmatched: true\n",
       "       force_match_for_each_row: true\n",
       "       use_matmul_gather: true\n",
       "     }\n",
       "   }\n",
       "   similarity_calculator {\n",
       "     iou_similarity {\n",
       "     }\n",
       "   }\n",
       "   box_predictor {\n",
       "     weight_shared_convolutional_box_predictor {\n",
       "       conv_hyperparams {\n",
       "         regularizer {\n",
       "           l2_regularizer {\n",
       "             weight: 4e-05\n",
       "           }\n",
       "         }\n",
       "         initializer {\n",
       "           random_normal_initializer {\n",
       "             mean: 0.0\n",
       "             stddev: 0.01\n",
       "           }\n",
       "         }\n",
       "         activation: RELU_6\n",
       "         batch_norm {\n",
       "           decay: 0.997\n",
       "           scale: true\n",
       "           epsilon: 0.001\n",
       "         }\n",
       "       }\n",
       "       depth: 128\n",
       "       num_layers_before_predictor: 4\n",
       "       kernel_size: 3\n",
       "       class_prediction_bias_init: -4.6\n",
       "       share_prediction_tower: true\n",
       "       use_depthwise: true\n",
       "     }\n",
       "   }\n",
       "   anchor_generator {\n",
       "     multiscale_anchor_generator {\n",
       "       min_level: 3\n",
       "       max_level: 7\n",
       "       anchor_scale: 4.0\n",
       "       aspect_ratios: 1.0\n",
       "       aspect_ratios: 2.0\n",
       "       aspect_ratios: 0.5\n",
       "       scales_per_octave: 2\n",
       "     }\n",
       "   }\n",
       "   post_processing {\n",
       "     batch_non_max_suppression {\n",
       "       score_threshold: 1e-08\n",
       "       iou_threshold: 0.6\n",
       "       max_detections_per_class: 100\n",
       "       max_total_detections: 100\n",
       "       use_static_shapes: false\n",
       "     }\n",
       "     score_converter: SIGMOID\n",
       "   }\n",
       "   normalize_loss_by_num_matches: true\n",
       "   loss {\n",
       "     localization_loss {\n",
       "       weighted_smooth_l1 {\n",
       "       }\n",
       "     }\n",
       "     classification_loss {\n",
       "       weighted_sigmoid_focal {\n",
       "         gamma: 2.0\n",
       "         alpha: 0.25\n",
       "       }\n",
       "     }\n",
       "     classification_weight: 1.0\n",
       "     localization_weight: 1.0\n",
       "   }\n",
       "   encode_background_as_zeros: true\n",
       "   normalize_loc_loss_by_codesize: true\n",
       "   inplace_batchnorm_update: true\n",
       "   freeze_batchnorm: false\n",
       " }, 'train_config': batch_size: 4\n",
       " data_augmentation_options {\n",
       "   random_horizontal_flip {\n",
       "   }\n",
       " }\n",
       " data_augmentation_options {\n",
       "   random_crop_image {\n",
       "     min_object_covered: 0.0\n",
       "     min_aspect_ratio: 0.75\n",
       "     max_aspect_ratio: 3.0\n",
       "     min_area: 0.75\n",
       "     max_area: 1.0\n",
       "     overlap_thresh: 0.0\n",
       "   }\n",
       " }\n",
       " sync_replicas: true\n",
       " optimizer {\n",
       "   momentum_optimizer {\n",
       "     learning_rate {\n",
       "       cosine_decay_learning_rate {\n",
       "         learning_rate_base: 0.08\n",
       "         total_steps: 50000\n",
       "         warmup_learning_rate: 0.026666\n",
       "         warmup_steps: 1000\n",
       "       }\n",
       "     }\n",
       "     momentum_optimizer_value: 0.9\n",
       "   }\n",
       "   use_moving_average: false\n",
       " }\n",
       " fine_tune_checkpoint: \"Tensorflow/workspace/pre-trained-models/ssd_mobilenet_v2_fpnlite_320x320_coco17_tpu-8/checkpoint/ckpt-0\"\n",
       " num_steps: 50000\n",
       " startup_delay_steps: 0.0\n",
       " replicas_to_aggregate: 8\n",
       " max_number_of_boxes: 100\n",
       " unpad_groundtruth_tensors: false\n",
       " fine_tune_checkpoint_type: \"detection\"\n",
       " fine_tune_checkpoint_version: V2, 'train_input_config': label_map_path: \"Tensorflow/workspace/annotations/label_map.pbtxt\"\n",
       " tf_record_input_reader {\n",
       "   input_path: \"Tensorflow/workspace/annotations/train.record\"\n",
       " }, 'eval_config': metrics_set: \"coco_detection_metrics\"\n",
       " use_moving_averages: false, 'eval_input_configs': [label_map_path: \"Tensorflow/workspace/annotations/label_map.pbtxt\"\n",
       " shuffle: false\n",
       " num_epochs: 1\n",
       " tf_record_input_reader {\n",
       "   input_path: \"Tensorflow/workspace/annotations/test.record\"\n",
       " }\n",
       " ], 'eval_input_config': label_map_path: \"Tensorflow/workspace/annotations/label_map.pbtxt\"\n",
       " shuffle: false\n",
       " num_epochs: 1\n",
       " tf_record_input_reader {\n",
       "   input_path: \"Tensorflow/workspace/annotations/test.record\"\n",
       " }}"
      ]
     },
     "execution_count": 56,
     "metadata": {},
     "output_type": "execute_result"
    }
   ],
   "source": [
    "config"
   ]
  },
  {
   "cell_type": "code",
   "execution_count": 52,
   "metadata": {},
   "outputs": [],
   "source": [
    "pipeline_config = pipeline_pb2.TrainEvalPipelineConfig()\n",
    "with tf.io.gfile.GFile(CONFIG_PATH, \"r\") as f:                                                                                                                                                                                                                     \n",
    "    proto_str = f.read()                                                                                                                                                                                                                                          \n",
    "    text_format.Merge(proto_str, pipeline_config)  "
   ]
  },
  {
   "cell_type": "code",
   "execution_count": 53,
   "metadata": {},
   "outputs": [],
   "source": [
    "pipeline_config.model.ssd.num_classes = 2\n",
    "pipeline_config.train_config.batch_size = 4\n",
    "pipeline_config.train_config.fine_tune_checkpoint = PRETRAINED_MODEL_PATH+'/ssd_mobilenet_v2_fpnlite_320x320_coco17_tpu-8/checkpoint/ckpt-0'\n",
    "pipeline_config.train_config.fine_tune_checkpoint_type = \"detection\"\n",
    "pipeline_config.train_input_reader.label_map_path= ANNOTATION_PATH + '/label_map.pbtxt'\n",
    "pipeline_config.train_input_reader.tf_record_input_reader.input_path[:] = [ANNOTATION_PATH + '/train.record']\n",
    "pipeline_config.eval_input_reader[0].label_map_path = ANNOTATION_PATH + '/label_map.pbtxt'\n",
    "pipeline_config.eval_input_reader[0].tf_record_input_reader.input_path[:] = [ANNOTATION_PATH + '/test.record']"
   ]
  },
  {
   "cell_type": "code",
   "execution_count": 54,
   "metadata": {},
   "outputs": [],
   "source": [
    "config_text = text_format.MessageToString(pipeline_config)                                                                                                                                                                                                        \n",
    "with tf.io.gfile.GFile(CONFIG_PATH, \"wb\") as f:                                                                                                                                                                                                                     \n",
    "    f.write(config_text)   "
   ]
  },
  {
   "cell_type": "markdown",
   "metadata": {},
   "source": [
    "# 6. Train the model"
   ]
  },
  {
   "cell_type": "code",
   "execution_count": 58,
   "metadata": {},
   "outputs": [
    {
     "name": "stdout",
     "output_type": "stream",
     "text": [
      "python Tensorflow/models/research/object_detection/model_main_tf2.py --model_dir=Tensorflow/workspace/models/my_ssd_mobnet --pipeline_config_path=Tensorflow/workspace/models/my_ssd_mobnet/pipeline.config --num_train_steps=5000\n"
     ]
    }
   ],
   "source": [
    "print(\"\"\"python {}/research/object_detection/model_main_tf2.py --model_dir={}/{} --pipeline_config_path={}/{}/pipeline.config --num_train_steps=5000\"\"\".format(APIMODEL_PATH, MODEL_PATH,CUSTOM_MODEL_NAME,MODEL_PATH,CUSTOM_MODEL_NAME))"
   ]
  },
  {
   "cell_type": "markdown",
   "metadata": {},
   "source": [
    "# 7. Load Train Model From Checkpoint"
   ]
  },
  {
   "cell_type": "code",
   "execution_count": 2,
   "metadata": {},
   "outputs": [],
   "source": [
    "import os\n",
    "from object_detection.utils import label_map_util\n",
    "from object_detection.utils import visualization_utils as viz_utils\n",
    "from object_detection.builders import model_builder"
   ]
  },
  {
   "cell_type": "code",
   "execution_count": 9,
   "metadata": {},
   "outputs": [],
   "source": [
    "# Load pipeline config and build a detection model\n",
    "configs = config_util.get_configs_from_pipeline_file(CONFIG_PATH)\n",
    "detection_model = model_builder.build(model_config=configs['model'], is_training=False)\n",
    "\n",
    "# Restore checkpoint\n",
    "ckpt = tf.compat.v2.train.Checkpoint(model=detection_model)\n",
    "ckpt.restore(os.path.join(CHECKPOINT_PATH, 'ckpt-6')).expect_partial()\n",
    "\n",
    "@tf.function\n",
    "def detect_fn(image):\n",
    "    image, shapes = detection_model.preprocess(image)\n",
    "    prediction_dict = detection_model.predict(image, shapes)\n",
    "    detections = detection_model.postprocess(prediction_dict, shapes)\n",
    "    return detections"
   ]
  },
  {
   "cell_type": "markdown",
   "metadata": {},
   "source": [
    "# 8. Detect in Real-Time"
   ]
  },
  {
   "cell_type": "code",
   "execution_count": 10,
   "metadata": {},
   "outputs": [],
   "source": [
    "import cv2 \n",
    "import numpy as np"
   ]
  },
  {
   "cell_type": "code",
   "execution_count": 11,
   "metadata": {},
   "outputs": [],
   "source": [
    "category_index = label_map_util.create_category_index_from_labelmap(ANNOTATION_PATH+'/label_map.pbtxt')"
   ]
  },
  {
   "cell_type": "code",
   "execution_count": 105,
   "metadata": {},
   "outputs": [],
   "source": [
    "cap.release()"
   ]
  },
  {
   "cell_type": "code",
   "execution_count": 12,
   "metadata": {},
   "outputs": [],
   "source": [
    "# Setup capture\n",
    "cap = cv2.VideoCapture(0)\n",
    "width = int(cap.get(cv2.CAP_PROP_FRAME_WIDTH))\n",
    "height = int(cap.get(cv2.CAP_PROP_FRAME_HEIGHT))"
   ]
  },
  {
   "cell_type": "code",
   "execution_count": null,
   "metadata": {},
   "outputs": [],
   "source": [
    "while True: \n",
    "    ret, frame = cap.read()\n",
    "    image_np = np.array(frame)\n",
    "    \n",
    "    input_tensor = tf.convert_to_tensor(np.expand_dims(image_np, 0), dtype=tf.float32)\n",
    "    detections = detect_fn(input_tensor)\n",
    "    \n",
    "    num_detections = int(detections.pop('num_detections'))\n",
    "    detections = {key: value[0, :num_detections].numpy()\n",
    "                  for key, value in detections.items()}\n",
    "    detections['num_detections'] = num_detections\n",
    "\n",
    "    # detection_classes should be ints.\n",
    "    detections['detection_classes'] = detections['detection_classes'].astype(np.int64)\n",
    "\n",
    "    label_id_offset = 1\n",
    "    image_np_with_detections = image_np.copy()\n",
    "\n",
    "    viz_utils.visualize_boxes_and_labels_on_image_array(\n",
    "                image_np_with_detections,\n",
    "                detections['detection_boxes'],\n",
    "                detections['detection_classes']+label_id_offset,\n",
    "                detections['detection_scores'],\n",
    "                category_index,\n",
    "                use_normalized_coordinates=True,\n",
    "                max_boxes_to_draw=5,\n",
    "                min_score_thresh=.5,\n",
    "                agnostic_mode=False)\n",
    "\n",
    "    cv2.imshow('object detection',  cv2.resize(image_np_with_detections, (800, 600)))\n",
    "    \n",
    "    if cv2.waitKey(1) & 0xFF == ord('q'):\n",
    "        cap.release()\n",
    "        break"
   ]
  },
  {
   "cell_type": "code",
   "execution_count": 42,
   "metadata": {},
   "outputs": [],
   "source": [
    "detections = detect_fn(input_tensor)"
   ]
  },
  {
   "cell_type": "code",
   "execution_count": 67,
   "metadata": {},
   "outputs": [],
   "source": [
    "from matplotlib import pyplot as plt"
   ]
  },
  {
   "cell_type": "code",
   "execution_count": null,
   "metadata": {},
   "outputs": [],
   "source": []
  }
 ],
 "metadata": {
  "kernelspec": {
   "display_name": "Python 3",
   "language": "python",
   "name": "python3"
  },
  "language_info": {
   "codemirror_mode": {
    "name": "ipython",
    "version": 3
   },
   "file_extension": ".py",
   "mimetype": "text/x-python",
   "name": "python",
   "nbconvert_exporter": "python",
   "pygments_lexer": "ipython3",
   "version": "3.11.5"
  }
 },
 "nbformat": 4,
 "nbformat_minor": 2
}
