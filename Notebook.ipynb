{
 "cells": [
  {
   "cell_type": "code",
   "execution_count": 1,
   "metadata": {},
   "outputs": [],
   "source": [
    "import cv2\n",
    "import os\n",
    "import time\n",
    "import uuid"
   ]
  },
  {
   "cell_type": "code",
   "execution_count": 2,
   "metadata": {},
   "outputs": [],
   "source": [
    "WORKSPACE_PATH = 'Tensorflow\\workspace'\n",
    "# WORKSPACE_PATH = r\"C:\\Users\\Cr4sZ\\FinalProject\\RealTimeObjectDetection\\Tensorflow\\workspace\"\n",
    "IMAGES_PATH = os.path.join(WORKSPACE_PATH, \"images\")\n",
    "CAMERA_IMAGES_PATH = os.path.join(IMAGES_PATH, \"camera\")"
   ]
  },
  {
   "cell_type": "code",
   "execution_count": 3,
   "metadata": {},
   "outputs": [],
   "source": [
    "# labels = [\"hello\", \"thanks\", \"yes\", \"no\", \"ILoveYou\", \"PeaceAmongWorlds\"]\n",
    "labels = [\"yes\", \"no\", \"ILoveYou\", \"PeaceAmongWorlds\"]\n",
    "number_images = 15\n",
    "delay_preparation = 2\n",
    "delay_next_sign = 3\n",
    "delay_frames = 1"
   ]
  },
  {
   "cell_type": "code",
   "execution_count": 4,
   "metadata": {},
   "outputs": [],
   "source": [
    "# Functions\n",
    "\n",
    "def check_path_permissions(path_to_check):\n",
    "    # Check read access\n",
    "    if os.access(path_to_check, os.R_OK):\n",
    "        print(\"You have read access to this directory.\")\n",
    "    else:\n",
    "        print(\"You don't have read access to this directory.\")\n",
    "    # Check write access\n",
    "    if os.access(path_to_check, os.W_OK):\n",
    "        print(\"You have write access to this directory.\")\n",
    "    else:\n",
    "        print(\"You don't have write access to this directory.\")\n",
    "    # Check execute access\n",
    "    if os.access(path_to_check, os.X_OK):\n",
    "        print(\"You have execute access to this directory.\")\n",
    "    else:\n",
    "        print(\"You don't have execute access to this directory.\")\n",
    "\n",
    "def create_directory(directory):\n",
    "    try:\n",
    "        os.makedirs(directory)\n",
    "    except FileExistsError:\n",
    "        print(f\"Directory {directory} already exists.\")\n",
    "        return True\n",
    "    except Exception as error:\n",
    "        print(f\"Couldn't create subfolder {directory}. Error: {error}\")\n",
    "        return False\n",
    "    return True\n",
    "\n"
   ]
  },
  {
   "cell_type": "code",
   "execution_count": 5,
   "metadata": {},
   "outputs": [
    {
     "ename": "KeyboardInterrupt",
     "evalue": "",
     "output_type": "error",
     "traceback": [
      "\u001b[1;31m---------------------------------------------------------------------------\u001b[0m",
      "\u001b[1;31mKeyboardInterrupt\u001b[0m                         Traceback (most recent call last)",
      "Cell \u001b[1;32mIn[5], line 2\u001b[0m\n\u001b[0;32m      1\u001b[0m \u001b[38;5;66;03m# time to prepare for posing\u001b[39;00m\n\u001b[1;32m----> 2\u001b[0m time\u001b[38;5;241m.\u001b[39msleep(delay_preparation)\n\u001b[0;32m      3\u001b[0m \u001b[38;5;66;03m# [\"hello\", \"thanks\", \"yes\", \"no\", \"ILoveYou\", \"PeaceAmongWorlds\"]\u001b[39;00m\n\u001b[0;32m      4\u001b[0m \n\u001b[0;32m      5\u001b[0m \u001b[38;5;66;03m# Creating subfolders for every sign with exist_ok=True to avoid errors if the directory already exists.\u001b[39;00m\n\u001b[0;32m      6\u001b[0m \u001b[38;5;28;01mfor\u001b[39;00m label \u001b[38;5;129;01min\u001b[39;00m labels:\n",
      "\u001b[1;31mKeyboardInterrupt\u001b[0m: "
     ]
    }
   ],
   "source": [
    "# time to prepare for posing\n",
    "time.sleep(delay_preparation)\n",
    "# [\"hello\", \"thanks\", \"yes\", \"no\", \"ILoveYou\", \"PeaceAmongWorlds\"]\n",
    "\n",
    "# Creating subfolders for every sign with exist_ok=True to avoid errors if the directory already exists.\n",
    "for label in labels:\n",
    "    label_path = os.path.join(CAMERA_IMAGES_PATH, label)\n",
    "    \n",
    "    # Check if user has read, write and execution access to the directory\n",
    "    check_path_permissions(label_path)\n",
    "    # stop program when user doesn't have write access to the directory\n",
    "    if not create_directory(label_path): \n",
    "        break\n",
    "    \n",
    "    # start capturing images but delay to prepare for posing\n",
    "    cap = cv2.VideoCapture(0)\n",
    "    # check if camera opened successfully, if not stop the program\n",
    "    if not cap.isOpened():\n",
    "        print(\"Error: Camera could not be opened.\")\n",
    "        break\n",
    "    print(\"Capturing images for {} in {} seconds.\".format(label, delay_next_sign))\n",
    "    \n",
    "    \n",
    "    time.sleep(delay_next_sign)\n",
    "    for img_num in range(number_images):\n",
    "        print(f\"Capturing image {img_num + 1}/{number_images} for label '{label}'\")\n",
    "        ret, frame = cap.read()\n",
    "        if not ret:\n",
    "            print(\"Failed to capture image\")\n",
    "            break\n",
    "        \n",
    "        # overlay image number on the video\n",
    "        cv2.putText(frame, f\"Image {img_num+1}\", (50, 50), cv2.FONT_HERSHEY_SIMPLEX, 1, (255, 255, 255), 2)\n",
    "\n",
    "        imagename = os.path.join(CAMERA_IMAGES_PATH, label, label + \"_\"+\"{}.jpg\".format(str(uuid.uuid1())))\n",
    "        cv2.imwrite(imagename, frame)\n",
    "        cv2.imshow(\"frame\", frame)\n",
    "        print(f\"Image saved as {imagename}\")\n",
    "        time.sleep(delay_frames)\n",
    "\n",
    "        if cv2.waitKey(1) & 0xFF == ord(\"q\"):\n",
    "            break\n",
    "    cap.release()\n",
    "    cv2.destroyAllWindows()"
   ]
  }
 ],
 "metadata": {
  "kernelspec": {
   "display_name": "base",
   "language": "python",
   "name": "python3"
  },
  "language_info": {
   "codemirror_mode": {
    "name": "ipython",
    "version": 3
   },
   "file_extension": ".py",
   "mimetype": "text/x-python",
   "name": "python",
   "nbconvert_exporter": "python",
   "pygments_lexer": "ipython3",
   "version": "3.11.5"
  }
 },
 "nbformat": 4,
 "nbformat_minor": 2
}
