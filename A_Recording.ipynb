{
  "cells": [
    {
      "cell_type": "markdown",
      "metadata": {
        "id": "gqnDCQOP-TiS"
      },
      "source": [
        "# 1. Import and Install Dependencies"
      ]
    },
    {
      "cell_type": "code",
      "execution_count": null,
      "metadata": {
        "id": "Ie3Oks2O-TiW"
      },
      "outputs": [],
      "source": [
        "%pip install tensorflow==2.10.0 opencv-python mediapipe scikit-learn matplotlib"
      ]
    },
    {
      "cell_type": "code",
      "execution_count": null,
      "metadata": {
        "id": "LamSnWch-TiW"
      },
      "outputs": [],
      "source": [
        "import cv2\n",
        "import numpy as np\n",
        "import os\n",
        "from matplotlib import pyplot as plt\n",
        "import time\n",
        "import mediapipe as mp"
      ]
    },
    {
      "cell_type": "code",
      "execution_count": null,
      "metadata": {},
      "outputs": [],
      "source": [
        "import importlib # for reloading .py files\n",
        "# WARNING: updates of config may require restart of kernel if reload is unsuccessful\n",
        "\n",
        "import config\n",
        "# reload config without restarting the kernel\n",
        "importlib.reload(config)\n",
        "from config import actions, no_sequences, sequence_length, DATA_PATH\n",
        "\n",
        "import utils\n",
        "# reload utils without restarting the kernel\n",
        "importlib.reload(utils)\n",
        "from utils import mediapipe_detection, extract_keypoints, draw_styled_landmarks, prob_viz\n"
      ]
    },
    {
      "cell_type": "markdown",
      "metadata": {
        "id": "ctNtJQMy-TiX"
      },
      "source": [
        "# 2. Keypoints using MP Holistic"
      ]
    },
    {
      "cell_type": "code",
      "execution_count": null,
      "metadata": {
        "id": "AGOQiml--TiX"
      },
      "outputs": [],
      "source": [
        "mp_holistic = mp.solutions.holistic # Holistic model\n",
        "mp_drawing = mp.solutions.drawing_utils # Drawing utilities"
      ]
    },
    {
      "cell_type": "markdown",
      "metadata": {
        "id": "lYqNAByp-Tic"
      },
      "source": [
        "# 4. Setup Folders for Collection"
      ]
    },
    {
      "cell_type": "code",
      "execution_count": null,
      "metadata": {},
      "outputs": [],
      "source": [
        "# create folders\n",
        "\n",
        "for action in actions:\n",
        "    for sequence in range(no_sequences):\n",
        "        try:\n",
        "            os.makedirs(os.path.join(DATA_PATH, action, str(sequence)))\n",
        "        except:\n",
        "            pass"
      ]
    },
    {
      "cell_type": "markdown",
      "metadata": {
        "id": "g2k5Yebh-Tic"
      },
      "source": [
        "# 5. Collect Keypoint Values for Training and Testing"
      ]
    },
    {
      "cell_type": "code",
      "execution_count": null,
      "metadata": {
        "id": "sNIJamOL-Tid",
        "outputId": "eab86dae-5ee9-4068-b226-1434aae89384"
      },
      "outputs": [],
      "source": [
        "cap = cv2.VideoCapture(0)\n",
        "# Set mediapipe model\n",
        "with mp_holistic.Holistic(min_detection_confidence=0.5, min_tracking_confidence=0.5) as holistic:\n",
        "\n",
        "    # Flag variable to signal breaking out of all loops\n",
        "    break_all_loops = False\n",
        "\n",
        "    # Loop through actions\n",
        "    for action in actions:\n",
        "        # Loop through sequences aka videos\n",
        "        for sequence in range(no_sequences):\n",
        "            # Loop through video length aka sequence length\n",
        "            for frame_num in range(sequence_length):\n",
        "\n",
        "                # Check if flag variable is set to break all loops\n",
        "                if break_all_loops:\n",
        "                    break\n",
        "\n",
        "                # Read feed\n",
        "                ret, frame = cap.read()\n",
        "\n",
        "                # Make detections\n",
        "                image, results = mediapipe_detection(frame, holistic)\n",
        "                # print(results)\n",
        "\n",
        "                # Draw landmarks\n",
        "                draw_styled_landmarks(image, results)\n",
        "\n",
        "                # NEW Apply wait logic\n",
        "                # Display messages and countdown\n",
        "                # Apply wait logic with countdown\n",
        "                if frame_num == 0:\n",
        "                    for countdown in range(2, 0, -1):  # 3 seconds countdown\n",
        "                        cv2.putText(image, f'GET READY FOR \"{action}\" in {countdown}', (30,100),\n",
        "                                   cv2.FONT_HERSHEY_SIMPLEX, 1, (0,0, 0), 4, cv2.LINE_AA)\n",
        "                        # cv2.putText(image, f'Collecting frames for {action} Video Number {sequence+1}', (15,150),\n",
        "                        #            cv2.FONT_HERSHEY_SIMPLEX, 0.5, (0, 0, 0), 1, cv2.LINE_AA)\n",
        "                        cv2.imshow('OpenCV Feed', image)\n",
        "                        cv2.waitKey(1000)  # wait 1000 ms between each number\n",
        "                        image = frame.copy()  # clear the previous text\n",
        "                else:\n",
        "                    cv2.putText(image, f'RECORDING [{sequence + 1}/{no_sequences}] \"{action}\" - Frame {frame_num + 1}/{sequence_length}', (30,100),\n",
        "                               cv2.FONT_HERSHEY_SIMPLEX, 1, (0,0, 255), 4, cv2.LINE_AA)\n",
        "                    remaining_frames = sequence_length - frame_num - 1\n",
        "                    cv2.imshow('OpenCV Feed', image)\n",
        "\n",
        "                # NEW Export keypoints\n",
        "                keypoints = extract_keypoints(results)\n",
        "                npy_path = os.path.join(DATA_PATH, action, str(sequence), str(frame_num))\n",
        "                print(npy_path)\n",
        "                np.save(npy_path, keypoints)\n",
        "\n",
        "                # Break gracefully - go to next frame\n",
        "                if cv2.waitKey(10) & 0xFF == ord('t'):\n",
        "                    # Set flag variable to break out of all loops\n",
        "                    break\n",
        "\n",
        "                # Break gracefully - kill all\n",
        "                if cv2.waitKey(10) & 0xFF == ord('q'):\n",
        "                    # Set flag variable to break out of all loops\n",
        "                    break_all_loops = True\n",
        "                    break\n",
        "\n",
        "    cap.release()\n",
        "    cv2.destroyAllWindows()\n",
        "    cv2.waitKey(1)"
      ]
    },
    {
      "cell_type": "code",
      "execution_count": null,
      "metadata": {
        "id": "83xeAZml-Tid"
      },
      "outputs": [],
      "source": [
        "cap.release()\n",
        "cv2.destroyAllWindows()"
      ]
    }
  ],
  "metadata": {
    "colab": {
      "provenance": []
    },
    "kernelspec": {
      "display_name": "venv39",
      "language": "python",
      "name": "python3"
    },
    "language_info": {
      "codemirror_mode": {
        "name": "ipython",
        "version": 3
      },
      "file_extension": ".py",
      "mimetype": "text/x-python",
      "name": "python",
      "nbconvert_exporter": "python",
      "pygments_lexer": "ipython3",
      "version": "3.9.19"
    }
  },
  "nbformat": 4,
  "nbformat_minor": 0
}
