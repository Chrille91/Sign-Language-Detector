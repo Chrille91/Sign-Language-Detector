{
  "cells": [
    {
      "cell_type": "markdown",
      "metadata": {
        "id": "gqnDCQOP-TiS"
      },
      "source": [
        "# 1. Import and Install Dependencies"
      ]
    },
    {
      "cell_type": "code",
      "execution_count": 1,
      "metadata": {
        "id": "Ie3Oks2O-TiW"
      },
      "outputs": [
        {
          "name": "stdout",
          "output_type": "stream",
          "text": [
            "\u001b[31mERROR: Could not find a version that satisfies the requirement tensorflow==2.10.0 (from versions: 2.13.0rc0, 2.13.0rc1, 2.13.0rc2, 2.13.0, 2.13.1, 2.14.0rc0, 2.14.0rc1, 2.14.0, 2.14.1, 2.15.0rc0, 2.15.0rc1, 2.15.0, 2.15.1, 2.16.0rc0, 2.16.1)\u001b[0m\u001b[31m\n",
            "\u001b[0m\u001b[31mERROR: No matching distribution found for tensorflow==2.10.0\u001b[0m\u001b[31m\n",
            "\u001b[0mNote: you may need to restart the kernel to use updated packages.\n"
          ]
        }
      ],
      "source": [
        "%pip install tensorflow==2.10.0 opencv-python mediapipe scikit-learn matplotlib"
      ]
    },
    {
      "cell_type": "code",
      "execution_count": 2,
      "metadata": {
        "id": "LamSnWch-TiW"
      },
      "outputs": [],
      "source": [
        "import cv2\n",
        "import numpy as np\n",
        "import os\n",
        "from matplotlib import pyplot as plt\n",
        "import time\n",
        "import mediapipe as mp"
      ]
    },
    {
      "cell_type": "code",
      "execution_count": 3,
      "metadata": {},
      "outputs": [],
      "source": [
        "import importlib # for reloading .py files\n",
        "# WARNING: updates of config may require restart of kernel if reload is unsuccessful\n",
        "\n",
        "import config\n",
        "# reload config without restarting the kernel\n",
        "importlib.reload(config)\n",
        "from config import actions, no_sequences, sequence_length, DATA_PATH\n",
        "\n",
        "import utils\n",
        "# reload utils without restarting the kernel\n",
        "importlib.reload(utils)\n",
        "from utils import mediapipe_detection, extract_keypoints, draw_styled_landmarks, prob_viz\n"
      ]
    },
    {
      "cell_type": "markdown",
      "metadata": {
        "id": "ctNtJQMy-TiX"
      },
      "source": [
        "# 2. Keypoints using MP Holistic"
      ]
    },
    {
      "cell_type": "code",
      "execution_count": 4,
      "metadata": {
        "id": "AGOQiml--TiX"
      },
      "outputs": [],
      "source": [
        "from utils import mp_holistic, mp_drawing, set_camera_settings, default_fps"
      ]
    },
    {
      "cell_type": "markdown",
      "metadata": {
        "id": "lYqNAByp-Tic"
      },
      "source": [
        "# 4. Setup Folders for Collection"
      ]
    },
    {
      "cell_type": "code",
      "execution_count": 6,
      "metadata": {},
      "outputs": [
        {
          "data": {
            "text/plain": [
              "['background',\n",
              " 'NoHands',\n",
              " 'ILoveYou',\n",
              " 'Yes',\n",
              " 'No',\n",
              " 'Hi',\n",
              " 'ThankYou',\n",
              " 'Me',\n",
              " 'You',\n",
              " 'It',\n",
              " 'Feel',\n",
              " 'Happy',\n",
              " 'Hungry',\n",
              " 'Eat',\n",
              " 'Bread',\n",
              " 'Chocolate',\n",
              " 'Like',\n",
              " 'Tired',\n",
              " 'Sleep',\n",
              " 'Evening',\n",
              " 'Bye',\n",
              " 'Bed']"
            ]
          },
          "execution_count": 6,
          "metadata": {},
          "output_type": "execute_result"
        }
      ],
      "source": [
        "empty_signs = [\"background\", \"NoHands\"]\n",
        "actions = [\n",
        "\"ILoveYou\",\n",
        "\"Yes\",\n",
        "\"No\",\n",
        "\"Hi\",\n",
        "\"ThankYou\",\n",
        "\"Me\",\n",
        "\"You\",\n",
        "\"It\",\n",
        "\"Feel\",\n",
        "\"Happy\",\n",
        "\"Hungry\",\n",
        "\"Eat\",\n",
        "\"Bread\",\n",
        "\"Chocolate\",\n",
        "\"Like\",\n",
        "\"Tired\",\n",
        "\"Sleep\",\n",
        "\"Evening\",\n",
        "\"Bye\",\n",
        "\"Bed\",\n",
        "]\n",
        "actions = empty_signs + actions\n",
        "actions"
      ]
    },
    {
      "cell_type": "code",
      "execution_count": 7,
      "metadata": {},
      "outputs": [],
      "source": [
        "# create folders\n",
        "\n",
        "for action in actions:\n",
        "    for sequence in range(no_sequences):\n",
        "        try:\n",
        "            os.makedirs(os.path.join(DATA_PATH, action, str(sequence)))\n",
        "        except:\n",
        "            pass"
      ]
    },
    {
      "cell_type": "code",
      "execution_count": null,
      "metadata": {},
      "outputs": [],
      "source": []
    },
    {
      "cell_type": "markdown",
      "metadata": {
        "id": "g2k5Yebh-Tic"
      },
      "source": [
        "# 5. Collect Keypoint Values for Training and Testing"
      ]
    },
    {
      "cell_type": "code",
      "execution_count": 8,
      "metadata": {
        "id": "sNIJamOL-Tid",
        "outputId": "eab86dae-5ee9-4068-b226-1434aae89384"
      },
      "outputs": [
        {
          "name": "stdout",
          "output_type": "stream",
          "text": [
            "Requested Resolution: 640x480, Actual Resolution: 640x480\n",
            "Requested FPS: 30, Actual FPS: 30.0\n"
          ]
        },
        {
          "name": "stderr",
          "output_type": "stream",
          "text": [
            "WARNING: All log messages before absl::InitializeLog() is called are written to STDERR\n",
            "I0000 00:00:1715687038.629347       1 gl_context.cc:344] GL version: 2.1 (2.1 Metal - 83.1), renderer: Apple M1\n",
            "INFO: Created TensorFlow Lite XNNPACK delegate for CPU.\n"
          ]
        },
        {
          "name": "stdout",
          "output_type": "stream",
          "text": [
            "MP_Data/background/0/0\n",
            "MP_Data/background/0/1\n",
            "MP_Data/background/0/2\n",
            "MP_Data/background/0/3\n",
            "MP_Data/background/0/4\n",
            "MP_Data/background/0/5\n",
            "MP_Data/background/0/6\n",
            "MP_Data/background/0/7\n",
            "MP_Data/background/0/8\n",
            "MP_Data/background/0/9\n",
            "MP_Data/background/0/10\n",
            "MP_Data/background/0/11\n",
            "MP_Data/background/0/12\n",
            "MP_Data/background/0/13\n",
            "MP_Data/background/0/14\n",
            "MP_Data/background/0/15\n",
            "MP_Data/background/0/16\n",
            "MP_Data/background/0/17\n",
            "MP_Data/background/0/18\n",
            "MP_Data/background/0/19\n",
            "MP_Data/background/0/20\n",
            "MP_Data/background/0/21\n",
            "MP_Data/background/0/22\n",
            "MP_Data/background/0/23\n",
            "MP_Data/background/0/24\n",
            "MP_Data/background/0/25\n",
            "MP_Data/background/0/26\n",
            "MP_Data/background/0/27\n",
            "MP_Data/background/0/28\n",
            "MP_Data/background/0/29\n",
            "MP_Data/background/1/0\n",
            "MP_Data/background/1/1\n",
            "MP_Data/background/1/2\n",
            "MP_Data/background/1/3\n",
            "MP_Data/background/1/4\n",
            "MP_Data/background/1/5\n",
            "MP_Data/background/1/6\n",
            "MP_Data/background/1/7\n",
            "MP_Data/background/1/8\n",
            "MP_Data/background/1/9\n",
            "MP_Data/background/1/10\n",
            "MP_Data/background/1/11\n",
            "MP_Data/background/1/12\n",
            "MP_Data/background/1/13\n",
            "MP_Data/background/1/14\n",
            "MP_Data/background/1/15\n",
            "MP_Data/background/1/16\n",
            "MP_Data/background/1/17\n",
            "MP_Data/background/1/18\n",
            "MP_Data/background/1/19\n",
            "MP_Data/background/1/20\n",
            "MP_Data/background/1/21\n",
            "MP_Data/background/1/22\n",
            "MP_Data/background/1/23\n",
            "MP_Data/background/1/24\n",
            "MP_Data/background/1/25\n",
            "MP_Data/background/1/26\n",
            "MP_Data/background/1/27\n",
            "MP_Data/background/1/28\n",
            "MP_Data/background/1/29\n",
            "MP_Data/background/2/0\n",
            "MP_Data/background/2/1\n",
            "MP_Data/background/2/2\n",
            "MP_Data/background/2/3\n",
            "MP_Data/background/2/4\n",
            "MP_Data/background/2/5\n",
            "MP_Data/background/2/6\n",
            "MP_Data/background/2/7\n",
            "MP_Data/background/2/8\n",
            "MP_Data/background/2/9\n",
            "MP_Data/background/2/10\n",
            "MP_Data/background/2/11\n",
            "MP_Data/background/2/12\n",
            "MP_Data/background/2/13\n",
            "MP_Data/background/2/14\n",
            "MP_Data/background/2/15\n",
            "MP_Data/background/2/16\n",
            "MP_Data/background/2/17\n",
            "MP_Data/background/2/18\n",
            "MP_Data/background/2/19\n",
            "MP_Data/background/2/20\n",
            "MP_Data/background/2/21\n",
            "MP_Data/background/2/22\n",
            "MP_Data/background/2/23\n",
            "MP_Data/background/2/24\n",
            "MP_Data/background/2/25\n",
            "MP_Data/background/2/26\n",
            "MP_Data/background/2/27\n",
            "MP_Data/background/2/28\n",
            "MP_Data/background/2/29\n",
            "MP_Data/background/3/0\n",
            "MP_Data/background/3/1\n",
            "MP_Data/background/3/2\n",
            "MP_Data/background/3/3\n",
            "MP_Data/background/3/4\n",
            "MP_Data/background/3/5\n",
            "MP_Data/background/3/6\n",
            "MP_Data/background/3/7\n",
            "MP_Data/background/3/8\n",
            "MP_Data/background/3/9\n",
            "Actual FPS: 6.831947415083697\n",
            "MP_Data/background/3/10\n",
            "MP_Data/background/3/11\n",
            "MP_Data/background/3/12\n",
            "MP_Data/background/3/13\n",
            "MP_Data/background/3/14\n",
            "MP_Data/background/3/15\n",
            "MP_Data/background/3/16\n",
            "MP_Data/background/3/17\n",
            "MP_Data/background/3/18\n",
            "MP_Data/background/3/19\n",
            "MP_Data/background/3/20\n",
            "MP_Data/background/3/21\n",
            "MP_Data/background/3/22\n",
            "MP_Data/background/3/23\n",
            "MP_Data/background/3/24\n",
            "MP_Data/background/3/25\n",
            "MP_Data/background/3/26\n",
            "MP_Data/background/3/27\n",
            "MP_Data/background/3/28\n",
            "MP_Data/background/3/29\n",
            "MP_Data/background/4/0\n",
            "MP_Data/background/4/1\n",
            "MP_Data/background/4/2\n",
            "MP_Data/background/4/3\n",
            "MP_Data/background/4/4\n",
            "MP_Data/background/4/5\n",
            "MP_Data/background/4/6\n",
            "MP_Data/background/4/7\n",
            "MP_Data/background/4/8\n",
            "MP_Data/background/4/9\n",
            "MP_Data/background/4/10\n",
            "MP_Data/background/4/11\n",
            "MP_Data/background/4/12\n",
            "MP_Data/background/4/13\n",
            "MP_Data/background/4/14\n",
            "MP_Data/background/4/15\n",
            "MP_Data/background/4/16\n",
            "MP_Data/background/4/17\n",
            "MP_Data/background/4/18\n",
            "MP_Data/background/4/19\n",
            "MP_Data/background/4/20\n",
            "MP_Data/background/4/21\n",
            "MP_Data/background/4/22\n",
            "MP_Data/background/4/23\n",
            "MP_Data/background/4/24\n",
            "MP_Data/background/4/25\n",
            "MP_Data/background/4/26\n",
            "MP_Data/background/4/27\n",
            "MP_Data/background/4/28\n",
            "MP_Data/background/4/29\n",
            "MP_Data/background/5/0\n",
            "MP_Data/background/5/1\n",
            "MP_Data/background/5/2\n",
            "MP_Data/background/5/3\n"
          ]
        }
      ],
      "source": [
        "import time\n",
        "\n",
        "frame_count = 0\n",
        "fps_list = []\n",
        "start_time = time.time()\n",
        "\n",
        "\n",
        "cap = cv2.VideoCapture(1)\n",
        "actual_res, actual_fps = set_camera_settings(cap) # setting camera resolution and fps + printing the actual values\n",
        "\n",
        "# Create a named window and resize it\n",
        "\n",
        "# Set mediapipe model\n",
        "with mp_holistic.Holistic(min_detection_confidence=0.5, min_tracking_confidence=0.5) as holistic:\n",
        "\n",
        "    # Flag variable to signal breaking out of all loops\n",
        "    break_all_loops = False\n",
        "\n",
        "    # Loop through actions\n",
        "    for action in actions:\n",
        "        # Loop through sequences aka videos\n",
        "        for sequence in range(no_sequences):\n",
        "            # Loop through video length aka sequence length\n",
        "            for frame_num in range(sequence_length):\n",
        "\n",
        "                # Check if flag variable is set to break all loops\n",
        "                if break_all_loops:\n",
        "                    break\n",
        "\n",
        "                # Read feed\n",
        "                ret, frame = cap.read()\n",
        "\n",
        "                # Make detections\n",
        "                image, results = mediapipe_detection(frame, holistic)\n",
        "                # print(results)\n",
        "\n",
        "                # Draw landmarks\n",
        "                draw_styled_landmarks(image, results)\n",
        "\n",
        "                # NEW Apply wait logic\n",
        "                # Display messages and countdown\n",
        "                # Apply wait logic with countdown\n",
        "                if frame_num == 0:\n",
        "                    for countdown in range(2, 0, -1):  # 3 seconds countdown\n",
        "                        cv2.putText(image, f'GET READY FOR \"{action}\" in {countdown}', (30,100),\n",
        "                                   cv2.FONT_HERSHEY_SIMPLEX, 1, (0,0, 0), 4, cv2.LINE_AA)\n",
        "                        # cv2.putText(image, f'Collecting frames for {action} Video Number {sequence+1}', (15,150),\n",
        "                        #            cv2.FONT_HERSHEY_SIMPLEX, 0.5, (0, 0, 0), 1, cv2.LINE_AA)\n",
        "                        cv2.imshow('OpenCV Feed', image)\n",
        "                        cv2.waitKey(1000)  # wait 1000 ms between each number\n",
        "                        image = frame.copy()  # clear the previous text\n",
        "                else:\n",
        "                    cv2.putText(image, f'RECORDING [{sequence + 1}/{no_sequences}] \"{action}\" - Frame {frame_num + 1}/{sequence_length}', (30,100),\n",
        "                               cv2.FONT_HERSHEY_SIMPLEX, 1, (0,0, 255), 4, cv2.LINE_AA)\n",
        "                    remaining_frames = sequence_length - frame_num - 1\n",
        "                    cv2.imshow('OpenCV Feed', image)\n",
        "\n",
        "                # NEW Export keypoints\n",
        "                keypoints = extract_keypoints(results)\n",
        "                npy_path = os.path.join(DATA_PATH, action, str(sequence), str(frame_num))\n",
        "                print(npy_path)\n",
        "                np.save(npy_path, keypoints)\n",
        "\n",
        "                frame_count += 1\n",
        "\n",
        "                if frame_count % 100 == 0:\n",
        "                    end_time = time.time()\n",
        "                    elapsed = end_time - start_time\n",
        "                    actual_fps = frame_count / elapsed\n",
        "                    fps_list.append(actual_fps)\n",
        "                    print(\"Actual FPS:\", actual_fps)\n",
        "                    # Reset timer and counter\n",
        "                    start_time = time.time()\n",
        "                    frame_count = 0\n",
        "\n",
        "                # Break gracefully - go to next frame\n",
        "                if cv2.waitKey(10) & 0xFF == ord('t'):\n",
        "                    # Set flag variable to break out of all loops\n",
        "                    break\n",
        "\n",
        "                # Break gracefully - kill all\n",
        "                if cv2.waitKey(10) & 0xFF == ord('q'):\n",
        "                    # Set flag variable to break out of all loops\n",
        "                    break_all_loops = True\n",
        "                    break\n",
        "\n",
        "    cap.release()\n",
        "    cv2.destroyAllWindows()\n",
        "    cv2.waitKey(1)"
      ]
    },
    {
      "cell_type": "code",
      "execution_count": 11,
      "metadata": {},
      "outputs": [
        {
          "data": {
            "text/plain": [
              "[6.0823465378505315, 7.501147401009512, 7.178792146737843]"
            ]
          },
          "execution_count": 11,
          "metadata": {},
          "output_type": "execute_result"
        }
      ],
      "source": [
        "fps_list"
      ]
    },
    {
      "cell_type": "code",
      "execution_count": null,
      "metadata": {},
      "outputs": [],
      "source": []
    },
    {
      "cell_type": "code",
      "execution_count": 2,
      "metadata": {},
      "outputs": [],
      "source": [
        "fps_check = [5.445442143436572,\n",
        " 7.249745231581113,\n",
        " 6.290899129609047,\n",
        " 5.955219709672702,\n",
        " 6.8669062454946355,\n",
        " 8.658761533004986,\n",
        " 8.171947604739815]"
      ]
    },
    {
      "cell_type": "code",
      "execution_count": 3,
      "metadata": {},
      "outputs": [
        {
          "data": {
            "text/plain": [
              "6.9484173710769825"
            ]
          },
          "execution_count": 3,
          "metadata": {},
          "output_type": "execute_result"
        }
      ],
      "source": [
        "sum(fps_check) / len(fps_check)"
      ]
    },
    {
      "cell_type": "code",
      "execution_count": null,
      "metadata": {
        "id": "83xeAZml-Tid"
      },
      "outputs": [],
      "source": [
        "cap.release()\n",
        "cv2.destroyAllWindows()"
      ]
    }
  ],
  "metadata": {
    "colab": {
      "provenance": []
    },
    "kernelspec": {
      "display_name": "venv39",
      "language": "python",
      "name": "python3"
    },
    "language_info": {
      "codemirror_mode": {
        "name": "ipython",
        "version": 3
      },
      "file_extension": ".py",
      "mimetype": "text/x-python",
      "name": "python",
      "nbconvert_exporter": "python",
      "pygments_lexer": "ipython3",
      "version": "3.9.19"
    }
  },
  "nbformat": 4,
  "nbformat_minor": 0
}
