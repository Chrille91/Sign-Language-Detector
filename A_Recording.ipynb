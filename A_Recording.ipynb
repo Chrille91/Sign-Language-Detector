{
  "cells": [
    {
      "cell_type": "markdown",
      "metadata": {
        "id": "gqnDCQOP-TiS"
      },
      "source": [
        "# 1. Import and Install Dependencies"
      ]
    },
    {
      "cell_type": "code",
      "execution_count": 1,
      "metadata": {
        "id": "Ie3Oks2O-TiW"
      },
      "outputs": [
        {
          "name": "stdout",
          "output_type": "stream",
          "text": [
            "\u001b[31mERROR: Could not find a version that satisfies the requirement tensorflow==2.10.0 (from versions: 2.13.0rc0, 2.13.0rc1, 2.13.0rc2, 2.13.0, 2.13.1, 2.14.0rc0, 2.14.0rc1, 2.14.0, 2.14.1, 2.15.0rc0, 2.15.0rc1, 2.15.0, 2.15.1, 2.16.0rc0, 2.16.1)\u001b[0m\u001b[31m\n",
            "\u001b[0m\u001b[31mERROR: No matching distribution found for tensorflow==2.10.0\u001b[0m\u001b[31m\n",
            "\u001b[0mNote: you may need to restart the kernel to use updated packages.\n"
          ]
        }
      ],
      "source": [
        "%pip install tensorflow==2.10.0 opencv-python mediapipe scikit-learn matplotlib"
      ]
    },
    {
      "cell_type": "code",
      "execution_count": 2,
      "metadata": {
        "id": "LamSnWch-TiW"
      },
      "outputs": [],
      "source": [
        "import cv2\n",
        "import numpy as np\n",
        "import os\n",
        "from matplotlib import pyplot as plt\n",
        "import time\n",
        "import mediapipe as mp"
      ]
    },
    {
      "cell_type": "code",
      "execution_count": 3,
      "metadata": {},
      "outputs": [],
      "source": [
        "import importlib # for reloading .py files\n",
        "# WARNING: updates of config may require restart of kernel if reload is unsuccessful\n",
        "\n",
        "import config\n",
        "# reload config without restarting the kernel\n",
        "importlib.reload(config)\n",
        "from config import actions, no_sequences, sequence_length, DATA_PATH\n",
        "\n",
        "import utils\n",
        "# reload utils without restarting the kernel\n",
        "importlib.reload(utils)\n",
        "from utils import mediapipe_detection, extract_keypoints, draw_styled_landmarks, prob_viz\n"
      ]
    },
    {
      "cell_type": "markdown",
      "metadata": {
        "id": "ctNtJQMy-TiX"
      },
      "source": [
        "# 2. Keypoints using MP Holistic"
      ]
    },
    {
      "cell_type": "code",
      "execution_count": 4,
      "metadata": {
        "id": "AGOQiml--TiX"
      },
      "outputs": [],
      "source": [
        "from utils import mp_holistic, mp_drawing, set_camera_settings, default_fps"
      ]
    },
    {
      "cell_type": "markdown",
      "metadata": {
        "id": "lYqNAByp-Tic"
      },
      "source": [
        "# 4. Setup Folders for Collection"
      ]
    },
    {
      "cell_type": "code",
      "execution_count": 5,
      "metadata": {},
      "outputs": [],
      "source": [
        "# create folders\n",
        "\n",
        "for action in actions:\n",
        "    for sequence in range(no_sequences):\n",
        "        try:\n",
        "            os.makedirs(os.path.join(DATA_PATH, action, str(sequence)))\n",
        "        except:\n",
        "            pass"
      ]
    },
    {
      "cell_type": "markdown",
      "metadata": {
        "id": "g2k5Yebh-Tic"
      },
      "source": [
        "# 5. Collect Keypoint Values for Training and Testing"
      ]
    },
    {
      "cell_type": "code",
      "execution_count": 10,
      "metadata": {
        "id": "sNIJamOL-Tid",
        "outputId": "eab86dae-5ee9-4068-b226-1434aae89384"
      },
      "outputs": [
        {
          "name": "stderr",
          "output_type": "stream",
          "text": [
            "WARNING: All log messages before absl::InitializeLog() is called are written to STDERR\n",
            "I0000 00:00:1715530097.586121       1 gl_context.cc:344] GL version: 2.1 (2.1 Metal - 83.1), renderer: Apple M1\n",
            "INFO: Created TensorFlow Lite XNNPACK delegate for CPU.\n"
          ]
        },
        {
          "ename": "NameError",
          "evalue": "name 'mp_drawing' is not defined",
          "output_type": "error",
          "traceback": [
            "\u001b[0;31m---------------------------------------------------------------------------\u001b[0m",
            "\u001b[0;31mNameError\u001b[0m                                 Traceback (most recent call last)",
            "Cell \u001b[0;32mIn[10], line 27\u001b[0m\n\u001b[1;32m     23\u001b[0m image, results \u001b[38;5;241m=\u001b[39m mediapipe_detection(frame, holistic)\n\u001b[1;32m     24\u001b[0m \u001b[38;5;66;03m# print(results)\u001b[39;00m\n\u001b[1;32m     25\u001b[0m \n\u001b[1;32m     26\u001b[0m \u001b[38;5;66;03m# Draw landmarks\u001b[39;00m\n\u001b[0;32m---> 27\u001b[0m \u001b[43mdraw_styled_landmarks\u001b[49m\u001b[43m(\u001b[49m\u001b[43mimage\u001b[49m\u001b[43m,\u001b[49m\u001b[43m \u001b[49m\u001b[43mresults\u001b[49m\u001b[43m)\u001b[49m\n\u001b[1;32m     29\u001b[0m \u001b[38;5;66;03m# NEW Apply wait logic\u001b[39;00m\n\u001b[1;32m     30\u001b[0m \u001b[38;5;66;03m# Display messages and countdown\u001b[39;00m\n\u001b[1;32m     31\u001b[0m \u001b[38;5;66;03m# Apply wait logic with countdown\u001b[39;00m\n\u001b[1;32m     32\u001b[0m \u001b[38;5;28;01mif\u001b[39;00m frame_num \u001b[38;5;241m==\u001b[39m \u001b[38;5;241m0\u001b[39m:\n",
            "File \u001b[0;32m~/Documents/My_Documents/WBS_Bootcamp/9 Deep Learning/Christian_Github_Repo/Sign-Language-Detector/utils.py:31\u001b[0m, in \u001b[0;36mdraw_styled_landmarks\u001b[0;34m(image, results)\u001b[0m\n\u001b[1;32m     29\u001b[0m \u001b[38;5;28;01mdef\u001b[39;00m \u001b[38;5;21mdraw_styled_landmarks\u001b[39m(image, results):\n\u001b[1;32m     30\u001b[0m     \u001b[38;5;66;03m# Draw face connections\u001b[39;00m\n\u001b[0;32m---> 31\u001b[0m     \u001b[43mmp_drawing\u001b[49m\u001b[38;5;241m.\u001b[39mdraw_landmarks(image, results\u001b[38;5;241m.\u001b[39mface_landmarks, mp_holistic\u001b[38;5;241m.\u001b[39mFACEMESH_CONTOURS, \n\u001b[1;32m     32\u001b[0m                              mp_drawing\u001b[38;5;241m.\u001b[39mDrawingSpec(color\u001b[38;5;241m=\u001b[39m(\u001b[38;5;241m80\u001b[39m,\u001b[38;5;241m110\u001b[39m,\u001b[38;5;241m10\u001b[39m), thickness\u001b[38;5;241m=\u001b[39m\u001b[38;5;241m1\u001b[39m, circle_radius\u001b[38;5;241m=\u001b[39m\u001b[38;5;241m1\u001b[39m), \n\u001b[1;32m     33\u001b[0m                              mp_drawing\u001b[38;5;241m.\u001b[39mDrawingSpec(color\u001b[38;5;241m=\u001b[39m(\u001b[38;5;241m80\u001b[39m,\u001b[38;5;241m256\u001b[39m,\u001b[38;5;241m121\u001b[39m), thickness\u001b[38;5;241m=\u001b[39m\u001b[38;5;241m1\u001b[39m, circle_radius\u001b[38;5;241m=\u001b[39m\u001b[38;5;241m1\u001b[39m)\n\u001b[1;32m     34\u001b[0m                              ) \n\u001b[1;32m     35\u001b[0m     \u001b[38;5;66;03m# Draw pose connections\u001b[39;00m\n\u001b[1;32m     36\u001b[0m     mp_drawing\u001b[38;5;241m.\u001b[39mdraw_landmarks(image, results\u001b[38;5;241m.\u001b[39mpose_landmarks, mp_holistic\u001b[38;5;241m.\u001b[39mPOSE_CONNECTIONS,\n\u001b[1;32m     37\u001b[0m                              mp_drawing\u001b[38;5;241m.\u001b[39mDrawingSpec(color\u001b[38;5;241m=\u001b[39m(\u001b[38;5;241m80\u001b[39m,\u001b[38;5;241m22\u001b[39m,\u001b[38;5;241m10\u001b[39m), thickness\u001b[38;5;241m=\u001b[39m\u001b[38;5;241m2\u001b[39m, circle_radius\u001b[38;5;241m=\u001b[39m\u001b[38;5;241m4\u001b[39m), \n\u001b[1;32m     38\u001b[0m                              mp_drawing\u001b[38;5;241m.\u001b[39mDrawingSpec(color\u001b[38;5;241m=\u001b[39m(\u001b[38;5;241m80\u001b[39m,\u001b[38;5;241m44\u001b[39m,\u001b[38;5;241m121\u001b[39m), thickness\u001b[38;5;241m=\u001b[39m\u001b[38;5;241m2\u001b[39m, circle_radius\u001b[38;5;241m=\u001b[39m\u001b[38;5;241m2\u001b[39m)\n\u001b[1;32m     39\u001b[0m                              ) \n",
            "\u001b[0;31mNameError\u001b[0m: name 'mp_drawing' is not defined"
          ]
        }
      ],
      "source": [
        "cap = cv2.VideoCapture(0)\n",
        "actual_res, actual_fps = set_camera_settings(cap) # setting camera resolution and fps + printing the actual values\n",
        "\n",
        "# Set mediapipe model\n",
        "with mp_holistic.Holistic(min_detection_confidence=0.5, min_tracking_confidence=0.5) as holistic:\n",
        "\n",
        "    # Flag variable to signal breaking out of all loops\n",
        "    break_all_loops = False\n",
        "\n",
        "    # Loop through actions\n",
        "    for action in actions:\n",
        "        # Loop through sequences aka videos\n",
        "        for sequence in range(no_sequences):\n",
        "            # Loop through video length aka sequence length\n",
        "            for frame_num in range(sequence_length):\n",
        "\n",
        "                # Check if flag variable is set to break all loops\n",
        "                if break_all_loops:\n",
        "                    break\n",
        "\n",
        "                # Read feed\n",
        "                ret, frame = cap.read()\n",
        "\n",
        "                # Make detections\n",
        "                image, results = mediapipe_detection(frame, holistic)\n",
        "                # print(results)\n",
        "\n",
        "                # Draw landmarks\n",
        "                draw_styled_landmarks(image, results)\n",
        "\n",
        "                # NEW Apply wait logic\n",
        "                # Display messages and countdown\n",
        "                # Apply wait logic with countdown\n",
        "                if frame_num == 0:\n",
        "                    for countdown in range(2, 0, -1):  # 3 seconds countdown\n",
        "                        cv2.putText(image, f'GET READY FOR \"{action}\" in {countdown}', (30,100),\n",
        "                                   cv2.FONT_HERSHEY_SIMPLEX, 1, (0,0, 0), 4, cv2.LINE_AA)\n",
        "                        # cv2.putText(image, f'Collecting frames for {action} Video Number {sequence+1}', (15,150),\n",
        "                        #            cv2.FONT_HERSHEY_SIMPLEX, 0.5, (0, 0, 0), 1, cv2.LINE_AA)\n",
        "                        cv2.imshow('OpenCV Feed', image)\n",
        "                        cv2.waitKey(1000)  # wait 1000 ms between each number\n",
        "                        image = frame.copy()  # clear the previous text\n",
        "                else:\n",
        "                    cv2.putText(image, f'RECORDING [{sequence + 1}/{no_sequences}] \"{action}\" - Frame {frame_num + 1}/{sequence_length}', (30,100),\n",
        "                               cv2.FONT_HERSHEY_SIMPLEX, 1, (0,0, 255), 4, cv2.LINE_AA)\n",
        "                    remaining_frames = sequence_length - frame_num - 1\n",
        "                    cv2.imshow('OpenCV Feed', image)\n",
        "\n",
        "                # NEW Export keypoints\n",
        "                keypoints = extract_keypoints(results)\n",
        "                npy_path = os.path.join(DATA_PATH, action, str(sequence), str(frame_num))\n",
        "                print(npy_path)\n",
        "                np.save(npy_path, keypoints)\n",
        "\n",
        "                # Break gracefully - go to next frame\n",
        "                if cv2.waitKey(10) & 0xFF == ord('t'):\n",
        "                    # Set flag variable to break out of all loops\n",
        "                    break\n",
        "\n",
        "                # Break gracefully - kill all\n",
        "                if cv2.waitKey(10) & 0xFF == ord('q'):\n",
        "                    # Set flag variable to break out of all loops\n",
        "                    break_all_loops = True\n",
        "                    break\n",
        "\n",
        "    cap.release()\n",
        "    cv2.destroyAllWindows()\n",
        "    cv2.waitKey(1)"
      ]
    },
    {
      "cell_type": "code",
      "execution_count": null,
      "metadata": {
        "id": "83xeAZml-Tid"
      },
      "outputs": [],
      "source": [
        "cap.release()\n",
        "cv2.destroyAllWindows()"
      ]
    }
  ],
  "metadata": {
    "colab": {
      "provenance": []
    },
    "kernelspec": {
      "display_name": "venv39",
      "language": "python",
      "name": "python3"
    },
    "language_info": {
      "codemirror_mode": {
        "name": "ipython",
        "version": 3
      },
      "file_extension": ".py",
      "mimetype": "text/x-python",
      "name": "python",
      "nbconvert_exporter": "python",
      "pygments_lexer": "ipython3",
      "version": "3.9.19"
    }
  },
  "nbformat": 4,
  "nbformat_minor": 0
}
