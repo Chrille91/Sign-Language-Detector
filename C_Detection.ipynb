{
 "cells": [
  {
   "cell_type": "code",
   "execution_count": null,
   "metadata": {},
   "outputs": [],
   "source": [
    "import cv2\n",
    "import numpy as np\n",
    "import os\n",
    "from matplotlib import pyplot as plt\n",
    "import time"
   ]
  },
  {
   "cell_type": "code",
   "execution_count": null,
   "metadata": {},
   "outputs": [],
   "source": [
    "# name of the weights file (without \".keras\" ending) \n",
    "# also used as model name - dot not allowed, thus deleted, and file renamed\n",
    "model_name = \"weights_wo_facemesh_LSTM_tanh_softmax_NM20_testsize03\"\n",
    "weights_name = model_name"
   ]
  },
  {
   "cell_type": "code",
   "execution_count": null,
   "metadata": {},
   "outputs": [],
   "source": [
    "WEIGHTS_PATH"
   ]
  },
  {
   "cell_type": "code",
   "execution_count": null,
   "metadata": {},
   "outputs": [],
   "source": [
    "weights_name"
   ]
  },
  {
   "cell_type": "markdown",
   "metadata": {},
   "source": [
    "# BUILD THE MODEL"
   ]
  },
  {
   "cell_type": "code",
   "execution_count": null,
   "metadata": {},
   "outputs": [],
   "source": [
    "# WARNING: updates of config may require restart of kernel if reload is unsuccessful\n",
    "import config\n",
    "# reload config without restarting the kernel\n",
    "import importlib\n",
    "importlib.reload(config)\n",
    "from config import actions, no_sequences, sequence_length, number_of_classes, DATA_PATH, WEIGHTS_PATH, facemesh_included\n",
    "\n",
    "from model import create_model, build_which_model"
   ]
  },
  {
   "cell_type": "code",
   "execution_count": null,
   "metadata": {},
   "outputs": [],
   "source": [
    "DATA_PATH"
   ]
  },
  {
   "cell_type": "code",
   "execution_count": null,
   "metadata": {},
   "outputs": [],
   "source": [
    "# OPTIONAL model() arguments\n",
    "# available model_types: \"LSTM\", \"Conv2D\"\n",
    "# tested activation functions: \"tanh\", \"relu\"; OTHERS: see below \n",
    "# tested activations for last neural layer: \"softmax\", \"sigmoid\"; OTHERS: \"linear\", \"tanh\", \"relu\", \"softplus\", \"softsign\", \"selu\", \"elu\", \"exponential\"\n",
    "# neural multiplicator: multiply neurons per layer by this amount (default = 1); the higher NM, the longer the computation\n",
    "# output will change according if facemesh_included = True or False\n",
    "\n",
    "# reLU = Rectified Linear Activation Function: returns 0 if it receives any negative input, but for any positive value x it returns that value back.  It helps the model to account for non-linearity.\n",
    "# Sigmoid: Outputs a value between 0 and 1, making it suitable for binary classification or multilabel classification tasks where each label is predicted independently.\n",
    "model_type, activation_function, activation, neural_multiplicator = \"LSTM\", \"tanh\", \"softmax\", 20\n",
    "model = create_model(model_type, activation_function, activation, neural_multiplicator)"
   ]
  },
  {
   "cell_type": "markdown",
   "metadata": {},
   "source": [
    "### Build model calling it by name"
   ]
  },
  {
   "cell_type": "code",
   "execution_count": null,
   "metadata": {},
   "outputs": [],
   "source": [
    "model_name = \"model_1\"\n",
    "model = build_which_model(model_name)"
   ]
  },
  {
   "cell_type": "code",
   "execution_count": null,
   "metadata": {},
   "outputs": [],
   "source": [
    "model.load_weights(os.path.join(WEIGHTS_PATH, weights_name + \".keras\"))"
   ]
  },
  {
   "cell_type": "markdown",
   "metadata": {},
   "source": [
    "# PROBABILITY VIZUALIZATION"
   ]
  },
  {
   "cell_type": "code",
   "execution_count": null,
   "metadata": {},
   "outputs": [],
   "source": [
    "import mediapipe as mp"
   ]
  },
  {
   "cell_type": "code",
   "execution_count": null,
   "metadata": {},
   "outputs": [],
   "source": [
    "threshold = 0.8\n",
    "\n",
    "colors = [(245,117,16), (117,245,16), (16,117,245)]\n",
    "colors = (245,117,16)\n",
    "one_color = (245,117,16)\n",
    "def prob_viz(res, actions, input_frame, colors):\n",
    "    output_frame = input_frame.copy()\n",
    "    for num, prob in enumerate(res):\n",
    "        color = one_color if prob < threshold else (0,0,255)\n",
    "        cv2.rectangle(output_frame, (0,60+num*40), (int(prob*100), 90+num*40), color, -1) #colors[num%len(colors)]\n",
    "        cv2.putText(output_frame, str(int(prob * 100)) + \"%\" + \" \" + actions[num] , (0, 85+num*40), cv2.FONT_HERSHEY_SIMPLEX, 1, (255,255,255), 2, cv2.LINE_AA)\n",
    "        \n",
    "    return output_frame"
   ]
  },
  {
   "cell_type": "code",
   "execution_count": null,
   "metadata": {},
   "outputs": [],
   "source": [
    "mp_holistic = mp.solutions.holistic # Holistic model\n",
    "mp_drawing = mp.solutions.drawing_utils # Drawing utilities"
   ]
  },
  {
   "cell_type": "code",
   "execution_count": null,
   "metadata": {},
   "outputs": [],
   "source": [
    "def mediapipe_detection(image, model):\n",
    "    image = cv2.cvtColor(image, cv2.COLOR_BGR2RGB) # COLOR CONVERSION BGR 2 RGB\n",
    "    image.flags.writeable = False                  # Image is no longer writeable\n",
    "    results = model.process(image)                 # Make prediction\n",
    "    image.flags.writeable = True                   # Image is now writeable \n",
    "    image = cv2.cvtColor(image, cv2.COLOR_RGB2BGR) # COLOR COVERSION RGB 2 BGR\n",
    "    return image, results"
   ]
  },
  {
   "cell_type": "code",
   "execution_count": null,
   "metadata": {},
   "outputs": [],
   "source": [
    "def draw_styled_landmarks(image, results):\n",
    "    # Draw face connections\n",
    "    mp_drawing.draw_landmarks(image, results.face_landmarks, mp_holistic.FACEMESH_CONTOURS, \n",
    "                             mp_drawing.DrawingSpec(color=(80,110,10), thickness=1, circle_radius=1), \n",
    "                             mp_drawing.DrawingSpec(color=(80,256,121), thickness=1, circle_radius=1)\n",
    "                             ) \n",
    "    # Draw pose connections\n",
    "    mp_drawing.draw_landmarks(image, results.pose_landmarks, mp_holistic.POSE_CONNECTIONS,\n",
    "                             mp_drawing.DrawingSpec(color=(80,22,10), thickness=2, circle_radius=4), \n",
    "                             mp_drawing.DrawingSpec(color=(80,44,121), thickness=2, circle_radius=2)\n",
    "                             ) \n",
    "    # Draw left hand connections\n",
    "    mp_drawing.draw_landmarks(image, results.left_hand_landmarks, mp_holistic.HAND_CONNECTIONS, \n",
    "                             mp_drawing.DrawingSpec(color=(121,22,76), thickness=2, circle_radius=4), \n",
    "                             mp_drawing.DrawingSpec(color=(121,44,250), thickness=2, circle_radius=2)\n",
    "                             ) \n",
    "    # Draw right hand connections  \n",
    "    mp_drawing.draw_landmarks(image, results.right_hand_landmarks, mp_holistic.HAND_CONNECTIONS, \n",
    "                             mp_drawing.DrawingSpec(color=(245,117,66), thickness=2, circle_radius=4), \n",
    "                             mp_drawing.DrawingSpec(color=(245,66,230), thickness=2, circle_radius=2)\n",
    "                             ) "
   ]
  },
  {
   "cell_type": "code",
   "execution_count": null,
   "metadata": {},
   "outputs": [],
   "source": [
    "def extract_keypoints(results):\n",
    "    pose = np.array([[res.x, res.y, res.z, res.visibility] for res in results.pose_landmarks.landmark]).flatten() if results.pose_landmarks else np.zeros(33*4)\n",
    "    # face = np.array([[res.x, res.y, res.z] for res in results.face_landmarks.landmark]).flatten() if results.face_landmarks else np.zeros(468*3)\n",
    "    lh = np.array([[res.x, res.y, res.z] for res in results.left_hand_landmarks.landmark]).flatten() if results.left_hand_landmarks else np.zeros(21*3)\n",
    "    rh = np.array([[res.x, res.y, res.z] for res in results.right_hand_landmarks.landmark]).flatten() if results.right_hand_landmarks else np.zeros(21*3)\n",
    "    if facemesh_included: \n",
    "      return np.concatenate([pose,\n",
    "                              lh, \n",
    "                              rh,\n",
    "                              face, \n",
    "                              ])\n",
    "    else:    # no facemesh keypoints returned\n",
    "      return np.concatenate([pose,\n",
    "                              lh, \n",
    "                              rh,\n",
    "                              ])"
   ]
  },
  {
   "cell_type": "code",
   "execution_count": null,
   "metadata": {},
   "outputs": [],
   "source": [
    "# Actions that we try to detect\n",
    "# actions = np.array([\"Hi\", \"ILoveYou\", \"_\"])\n"
   ]
  },
  {
   "cell_type": "code",
   "execution_count": null,
   "metadata": {},
   "outputs": [],
   "source": [
    "# picture of a static person using no hands as fall-back option for model\n",
    "static_frame = np.load(os.path.join(DATA_PATH, \"_.npy\"))"
   ]
  },
  {
   "cell_type": "code",
   "execution_count": null,
   "metadata": {},
   "outputs": [],
   "source": [
    "from scipy.stats import mode "
   ]
  },
  {
   "cell_type": "code",
   "execution_count": null,
   "metadata": {},
   "outputs": [],
   "source": [
    "# 1. New detection variables\n",
    "sequence = []\n",
    "sentence = []\n",
    "predictions = []\n",
    "threshold = 0.4 # 40% \n",
    "frame_counter = 0\n",
    "last_word = \"\"\n",
    "num_of_words = 5\n",
    "\n",
    "length_of_sequence = 30\n",
    "no_of_reps_to_accept = 5\n",
    "silent_sign_name = \"NoHands\"\n",
    "\n",
    "cap = cv2.VideoCapture(0) # I have changed the 1 to 0 in order to open successfully the camera\n",
    "\n",
    "# Set mediapipe model\n",
    "with mp_holistic.Holistic(min_detection_confidence=0.5, min_tracking_confidence=0.5) as holistic:\n",
    "    while cap.isOpened():\n",
    "\n",
    "        frame_counter += 1\n",
    "\n",
    "        # Read feed\n",
    "        ret, frame = cap.read()\n",
    "\n",
    "        # Make detections\n",
    "        image, results = mediapipe_detection(frame, holistic)\n",
    "        print(results)\n",
    "\n",
    "        # Draw landmarks\n",
    "        draw_styled_landmarks(image, results)\n",
    "\n",
    "        # 2. Prediction logic\n",
    "        keypoints = extract_keypoints(results)\n",
    "        sequence.append(keypoints)\n",
    "        # dynamically adjust the length of the sequence using the variable from above\n",
    "        sequence = sequence[-length_of_sequence:]\n",
    "\n",
    "        if len(sequence) == length_of_sequence:\n",
    "\n",
    "            zero_frame = np.zeros_like(sequence[0])  # Creates a zero array with the same shape as a frame\n",
    "\n",
    "            # overwrites zero_frame with the static\n",
    "            zero_frame = static_frame\n",
    "\n",
    "            padding = [zero_frame] * (int((30 - len(sequence))/2))\n",
    "\n",
    "            # pad the actual sequence from left and right\n",
    "            padded_sequence = padding + sequence + padding\n",
    "\n",
    "            # Ensure that the padded sequence is exactly 30 frames long\n",
    "            padded_sequence = padded_sequence[:30]\n",
    "\n",
    "            res = model.predict(np.expand_dims(sequence, axis=0))[0]\n",
    "            print(actions[np.argmax(res)], round(max(res),2))\n",
    "            predictions.append(np.argmax(res))\n",
    "            #  my_predictions = list(dict.fromke<ys(predictions)) --> another way how to get rid of duplicates and keep the order of the elements in the list\n",
    "\n",
    "\n",
    "        #3. Viz logic\n",
    "            # if np.unique(predictions[-2:])[0]==np.argmax(res): <-- wrong line of code since .unique sorts the elements in the list alphabetically!!!\n",
    "            \n",
    "            # if mode(predictions[-3:])[0]==np.argmax(res):\n",
    "\n",
    "\n",
    "            is_silent_sign = actions[np.argmax(res)] == silent_sign_name\n",
    "\n",
    "            if (np.unique(predictions[-no_of_reps_to_accept:])[0]==np.argmax(res) \n",
    "                and (np.unique(predictions[-no_of_reps_to_accept:]).shape[0]==1) # additional condition to check if the returned unique list has only one element\n",
    "                and not is_silent_sign\n",
    "                ): \n",
    "\n",
    "\n",
    "                if (res[np.argmax(res)] > threshold) and (actions[np.argmax(res)] != last_word): \n",
    "                    if len(sentence) >= num_of_words:\n",
    "                        time.sleep(3) \n",
    "                        sentence = []\n",
    "                        sentence.append(actions[np.argmax(res)])\n",
    "                        last_word = actions[np.argmax(res)]\n",
    "                        frame_counter = 0\n",
    "                    elif len(sentence) > 0: \n",
    "                        sentence.append(actions[np.argmax(res)])\n",
    "                        last_word = actions[np.argmax(res)]\n",
    "                        frame_counter = 0\n",
    "                    elif len(sentence) == 0:\n",
    "                        sentence.append(actions[np.argmax(res)])\n",
    "                        last_word = actions[np.argmax(res)]\n",
    "                        frame_counter = 0\n",
    "                    # the same thing:\n",
    "                    # else:\n",
    "                    #     sentence.append(actions[np.argmax(res)])\n",
    "                        \n",
    "                        \n",
    "            # if len(sentence) > 5:\n",
    "            #     sentence = sentence[-5:]\n",
    "\n",
    "            # Viz probabilities\n",
    "            image = prob_viz(res, actions, image, colors)\n",
    "       \n",
    "        if frame_counter == 9:\n",
    "            sentence = []\n",
    "            last_word = \"\"\n",
    "            frame_counter = 0   \n",
    "\n",
    "        cv2.putText(image, f\"{frame_counter}, last word {last_word}\", (50,50),\n",
    "                    cv2.FONT_HERSHEY_SIMPLEX, 1, (255, 255, 255), 2, cv2.LINE_AA)\n",
    "\n",
    "        cv2.rectangle(image, (0, 430), (640, 480), (128, 128, 128), -1) # TODO : make it more transperant\n",
    "        cv2.putText(image, ', '.join(sentence), (50,465),\n",
    "                       cv2.FONT_HERSHEY_SIMPLEX, 1, (255, 255, 255), 2, cv2.LINE_AA)\n",
    "        \n",
    "\n",
    "        # Show to screen\n",
    "        cv2.imshow('OpenCV Feed', image)\n",
    "\n",
    "        # Break gracefully\n",
    "        if cv2.waitKey(10) & 0xFF == ord('t'):\n",
    "            break\n",
    "\n",
    "    cap.release()\n",
    "    cv2.destroyAllWindows()\n",
    "    cv2.waitKey(1)"
   ]
  },
  {
   "cell_type": "code",
   "execution_count": null,
   "metadata": {},
   "outputs": [],
   "source": []
  }
 ],
 "metadata": {
  "kernelspec": {
   "display_name": "venv39",
   "language": "python",
   "name": "python3"
  },
  "language_info": {
   "codemirror_mode": {
    "name": "ipython",
    "version": 3
   },
   "file_extension": ".py",
   "mimetype": "text/x-python",
   "name": "python",
   "nbconvert_exporter": "python",
   "pygments_lexer": "ipython3",
   "version": "3.9.19"
  }
 },
 "nbformat": 4,
 "nbformat_minor": 2
}
