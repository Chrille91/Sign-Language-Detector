{
  "nbformat": 4,
  "nbformat_minor": 0,
  "metadata": {
    "colab": {
      "provenance": [],
      "include_colab_link": true
    },
    "kernelspec": {
      "name": "python3",
      "display_name": "Python 3"
    },
    "language_info": {
      "name": "python"
    }
  },
  "cells": [
    {
      "cell_type": "markdown",
      "metadata": {
        "id": "view-in-github",
        "colab_type": "text"
      },
      "source": [
        "<a href=\"https://colab.research.google.com/github/Chrille91/Sign-Language-Detector/blob/main/Keypoint_Detection.ipynb\" target=\"_parent\"><img src=\"https://colab.research.google.com/assets/colab-badge.svg\" alt=\"Open In Colab\"/></a>"
      ]
    },
    {
      "cell_type": "markdown",
      "source": [
        "# Sign Language Detection Project"
      ],
      "metadata": {
        "id": "WgODNYVC3bx0"
      }
    },
    {
      "cell_type": "code",
      "source": [
        "import numpy as np"
      ],
      "metadata": {
        "id": "O08MasxDT1tv"
      },
      "execution_count": null,
      "outputs": []
    },
    {
      "cell_type": "code",
      "source": [
        "# Path for exported data, numpy arrays\n",
        "\n",
        "# Actions that we try to detect\n",
        "actions = np.array(['hello', 'thanks', 'iloveyou'])\n",
        "\n",
        "# Thirty videos worth of data\n",
        "no_sequences = 30\n",
        "\n",
        "# Videos are going to be 30 frames in length\n",
        "sequence_length = 30"
      ],
      "metadata": {
        "id": "LQR62x70j3xd"
      },
      "execution_count": null,
      "outputs": []
    },
    {
      "cell_type": "code",
      "execution_count": null,
      "metadata": {
        "id": "MobkDMn92w_k",
        "colab": {
          "base_uri": "https://localhost:8080/"
        },
        "outputId": "2a62c316-fbbd-4015-c6f8-087b7c68822f"
      },
      "outputs": [
        {
          "output_type": "stream",
          "name": "stdout",
          "text": [
            "/content\n"
          ]
        }
      ],
      "source": [
        "!pwd"
      ]
    },
    {
      "cell_type": "code",
      "source": [
        "# not being used now - mounting google drive to be able to access files in the folder\n",
        "from google.colab import drive\n",
        "drive.mount('/content/drive')"
      ],
      "metadata": {
        "colab": {
          "base_uri": "https://localhost:8080/"
        },
        "id": "Rn1p3YQHhYPJ",
        "outputId": "b1e067b7-4205-4776-90be-075c3eb85925"
      },
      "execution_count": 7,
      "outputs": [
        {
          "output_type": "stream",
          "name": "stdout",
          "text": [
            "Drive already mounted at /content/drive; to attempt to forcibly remount, call drive.mount(\"/content/drive\", force_remount=True).\n"
          ]
        }
      ]
    },
    {
      "cell_type": "code",
      "source": [
        "import numpy as np\n",
        "X = np.load('/content/drive/MyDrive/Final Project/exploring action recognition/X_2_without_facemesh.npy')\n",
        "y = np.load('/content/drive/MyDrive/Final Project/exploring action recognition/y_2_without_facemesh.npy')\n"
      ],
      "metadata": {
        "id": "HRl1Gfbfh6Gl"
      },
      "execution_count": 10,
      "outputs": []
    },
    {
      "cell_type": "code",
      "source": [
        "from sklearn.model_selection import train_test_split\n"
      ],
      "metadata": {
        "id": "_35VkyNFidND"
      },
      "execution_count": null,
      "outputs": []
    },
    {
      "cell_type": "code",
      "source": [
        "X_train, X_test, y_train, y_test = train_test_split(X, y, test_size=0.05)"
      ],
      "metadata": {
        "id": "A6YSVD_ziwTQ"
      },
      "execution_count": null,
      "outputs": []
    },
    {
      "cell_type": "code",
      "source": [
        "y_test.shape"
      ],
      "metadata": {
        "colab": {
          "base_uri": "https://localhost:8080/"
        },
        "id": "RV53lfX4iyIr",
        "outputId": "b9aa57f2-2c62-4c29-a248-621a42bb771e"
      },
      "execution_count": null,
      "outputs": [
        {
          "output_type": "execute_result",
          "data": {
            "text/plain": [
              "(5, 3)"
            ]
          },
          "metadata": {},
          "execution_count": 9
        }
      ]
    },
    {
      "cell_type": "markdown",
      "source": [
        "# 7. Build and Train LSTM Neural Network"
      ],
      "metadata": {
        "id": "Pl08mMvki1hr"
      }
    },
    {
      "cell_type": "code",
      "source": [
        "from tensorflow.keras.models import Sequential\n",
        "from tensorflow.keras.layers import LSTM, Dense\n",
        "from tensorflow.keras.callbacks import TensorBoard"
      ],
      "metadata": {
        "id": "k112pS4qizkt"
      },
      "execution_count": null,
      "outputs": []
    },
    {
      "cell_type": "code",
      "source": [
        "import os"
      ],
      "metadata": {
        "id": "gUgypvl2i2u8"
      },
      "execution_count": null,
      "outputs": []
    },
    {
      "cell_type": "code",
      "source": [
        "log_dir = os.path.join('Logs')\n"
      ],
      "metadata": {
        "id": "yStyX9pnjhle"
      },
      "execution_count": null,
      "outputs": []
    },
    {
      "cell_type": "code",
      "source": [
        "tb_callback = TensorBoard(log_dir=log_dir)"
      ],
      "metadata": {
        "id": "4u511dyhjiDJ"
      },
      "execution_count": null,
      "outputs": []
    },
    {
      "cell_type": "code",
      "source": [
        "coeficient=0.5\n",
        "model = Sequential()\n",
        "model.add(LSTM(64, return_sequences=True, activation='tanh', input_shape=(30,258)))\n",
        "model.add(LSTM(int(128*coeficient), return_sequences=True, activation='tanh'))\n",
        "model.add(LSTM(int(64*coeficient), return_sequences=False, activation='tanh'))\n",
        "model.add(Dense(int(64*coeficient), activation='tanh'))\n",
        "model.add(Dense(32, activation='tanh'))\n",
        "model.add(Dense(actions.shape[0], activation='softmax'))"
      ],
      "metadata": {
        "id": "_VgDF4stjj46"
      },
      "execution_count": null,
      "outputs": []
    },
    {
      "cell_type": "code",
      "source": [
        "model.compile(optimizer='Adam', loss='categorical_crossentropy', metrics=['categorical_accuracy'])"
      ],
      "metadata": {
        "id": "I9x71JUDjqDn"
      },
      "execution_count": null,
      "outputs": []
    },
    {
      "cell_type": "code",
      "source": [
        "model.fit(X_train, y_train, epochs=200, callbacks=[tb_callback])"
      ],
      "metadata": {
        "colab": {
          "base_uri": "https://localhost:8080/",
          "height": 1000
        },
        "id": "BoRkMklnlYDc",
        "outputId": "3330ab98-c866-4cb2-82ce-247e5d2561bc"
      },
      "execution_count": null,
      "outputs": [
        {
          "output_type": "stream",
          "name": "stdout",
          "text": [
            "Epoch 1/200\n",
            "3/3 [==============================] - 11s 58ms/step - loss: 1.0435 - categorical_accuracy: 0.3529\n",
            "Epoch 2/200\n",
            "3/3 [==============================] - 0s 55ms/step - loss: 0.8100 - categorical_accuracy: 0.6471\n",
            "Epoch 3/200\n",
            "3/3 [==============================] - 0s 67ms/step - loss: 0.6475 - categorical_accuracy: 0.7647\n",
            "Epoch 4/200\n",
            "3/3 [==============================] - 0s 57ms/step - loss: 0.5500 - categorical_accuracy: 0.8471\n",
            "Epoch 5/200\n",
            "3/3 [==============================] - 0s 55ms/step - loss: 0.4849 - categorical_accuracy: 0.8235\n",
            "Epoch 6/200\n",
            "3/3 [==============================] - 0s 55ms/step - loss: 0.4341 - categorical_accuracy: 0.8118\n",
            "Epoch 7/200\n",
            "3/3 [==============================] - 0s 61ms/step - loss: 0.3996 - categorical_accuracy: 0.8353\n",
            "Epoch 8/200\n",
            "3/3 [==============================] - 0s 66ms/step - loss: 0.3604 - categorical_accuracy: 0.8471\n",
            "Epoch 9/200\n",
            "3/3 [==============================] - 0s 77ms/step - loss: 0.3336 - categorical_accuracy: 0.8706\n",
            "Epoch 10/200\n",
            "3/3 [==============================] - 0s 69ms/step - loss: 0.2993 - categorical_accuracy: 0.8706\n",
            "Epoch 11/200\n",
            "3/3 [==============================] - 0s 63ms/step - loss: 0.2535 - categorical_accuracy: 0.8824\n",
            "Epoch 12/200\n",
            "3/3 [==============================] - 0s 92ms/step - loss: 0.2815 - categorical_accuracy: 0.8941\n",
            "Epoch 13/200\n",
            "3/3 [==============================] - 0s 136ms/step - loss: 0.2720 - categorical_accuracy: 0.9059\n",
            "Epoch 14/200\n",
            "3/3 [==============================] - 0s 77ms/step - loss: 0.3186 - categorical_accuracy: 0.8706\n",
            "Epoch 15/200\n",
            "3/3 [==============================] - 0s 60ms/step - loss: 0.3292 - categorical_accuracy: 0.8588\n",
            "Epoch 16/200\n",
            "3/3 [==============================] - 0s 55ms/step - loss: 0.1881 - categorical_accuracy: 0.9412\n",
            "Epoch 17/200\n",
            "3/3 [==============================] - 0s 59ms/step - loss: 0.1890 - categorical_accuracy: 0.9412\n",
            "Epoch 18/200\n",
            "3/3 [==============================] - 0s 53ms/step - loss: 0.1550 - categorical_accuracy: 0.9412\n",
            "Epoch 19/200\n",
            "3/3 [==============================] - 0s 56ms/step - loss: 0.2105 - categorical_accuracy: 0.9294\n",
            "Epoch 20/200\n",
            "3/3 [==============================] - 0s 58ms/step - loss: 0.6079 - categorical_accuracy: 0.7882\n",
            "Epoch 21/200\n",
            "3/3 [==============================] - 0s 63ms/step - loss: 0.9509 - categorical_accuracy: 0.6471\n",
            "Epoch 22/200\n",
            "3/3 [==============================] - 0s 54ms/step - loss: 0.6544 - categorical_accuracy: 0.6588\n",
            "Epoch 23/200\n",
            "3/3 [==============================] - 0s 70ms/step - loss: 0.4985 - categorical_accuracy: 0.7059\n",
            "Epoch 24/200\n",
            "3/3 [==============================] - 0s 58ms/step - loss: 0.4746 - categorical_accuracy: 0.6588\n",
            "Epoch 25/200\n",
            "3/3 [==============================] - 0s 54ms/step - loss: 0.4764 - categorical_accuracy: 0.6588\n",
            "Epoch 26/200\n",
            "3/3 [==============================] - 0s 67ms/step - loss: 0.4484 - categorical_accuracy: 0.7294\n",
            "Epoch 27/200\n",
            "3/3 [==============================] - 0s 104ms/step - loss: 0.4294 - categorical_accuracy: 0.7529\n",
            "Epoch 28/200\n",
            "3/3 [==============================] - 0s 96ms/step - loss: 0.3871 - categorical_accuracy: 0.8000\n",
            "Epoch 29/200\n",
            "3/3 [==============================] - 0s 104ms/step - loss: 0.3098 - categorical_accuracy: 0.8353\n",
            "Epoch 30/200\n",
            "3/3 [==============================] - 0s 102ms/step - loss: 0.2800 - categorical_accuracy: 0.9176\n",
            "Epoch 31/200\n",
            "3/3 [==============================] - 0s 99ms/step - loss: 0.2352 - categorical_accuracy: 0.9059\n",
            "Epoch 32/200\n",
            "3/3 [==============================] - 0s 96ms/step - loss: 0.2243 - categorical_accuracy: 0.9176\n",
            "Epoch 33/200\n",
            "3/3 [==============================] - 0s 102ms/step - loss: 0.2941 - categorical_accuracy: 0.8941\n",
            "Epoch 34/200\n",
            "3/3 [==============================] - 0s 101ms/step - loss: 0.2254 - categorical_accuracy: 0.9059\n",
            "Epoch 35/200\n",
            "3/3 [==============================] - 0s 110ms/step - loss: 0.2047 - categorical_accuracy: 0.9294\n",
            "Epoch 36/200\n",
            "3/3 [==============================] - 0s 105ms/step - loss: 0.2240 - categorical_accuracy: 0.9059\n",
            "Epoch 37/200\n",
            "3/3 [==============================] - 0s 106ms/step - loss: 0.2343 - categorical_accuracy: 0.9176\n",
            "Epoch 38/200\n",
            "3/3 [==============================] - 0s 102ms/step - loss: 0.2060 - categorical_accuracy: 0.9059\n",
            "Epoch 39/200\n",
            "3/3 [==============================] - 0s 93ms/step - loss: 0.2062 - categorical_accuracy: 0.9176\n",
            "Epoch 40/200\n",
            "3/3 [==============================] - 0s 99ms/step - loss: 0.1792 - categorical_accuracy: 0.9176\n",
            "Epoch 41/200\n",
            "3/3 [==============================] - 0s 85ms/step - loss: 0.2278 - categorical_accuracy: 0.9059\n",
            "Epoch 42/200\n",
            "3/3 [==============================] - 0s 73ms/step - loss: 0.1262 - categorical_accuracy: 0.9765\n",
            "Epoch 43/200\n",
            "3/3 [==============================] - 0s 69ms/step - loss: 0.1445 - categorical_accuracy: 0.9529\n",
            "Epoch 44/200\n",
            "3/3 [==============================] - 0s 65ms/step - loss: 0.1464 - categorical_accuracy: 0.9412\n",
            "Epoch 45/200\n",
            "3/3 [==============================] - 0s 61ms/step - loss: 0.1077 - categorical_accuracy: 0.9647\n",
            "Epoch 46/200\n",
            "3/3 [==============================] - 0s 58ms/step - loss: 0.0648 - categorical_accuracy: 0.9882\n",
            "Epoch 47/200\n",
            "3/3 [==============================] - 0s 72ms/step - loss: 0.1065 - categorical_accuracy: 0.9647\n",
            "Epoch 48/200\n",
            "3/3 [==============================] - 0s 56ms/step - loss: 0.0534 - categorical_accuracy: 1.0000\n",
            "Epoch 49/200\n",
            "3/3 [==============================] - 0s 62ms/step - loss: 0.0605 - categorical_accuracy: 0.9765\n",
            "Epoch 50/200\n",
            "3/3 [==============================] - 0s 63ms/step - loss: 0.0530 - categorical_accuracy: 0.9882\n",
            "Epoch 51/200\n",
            "3/3 [==============================] - 0s 59ms/step - loss: 0.1698 - categorical_accuracy: 0.9529\n",
            "Epoch 52/200\n",
            "3/3 [==============================] - 0s 60ms/step - loss: 0.1092 - categorical_accuracy: 0.9647\n",
            "Epoch 53/200\n",
            "3/3 [==============================] - 0s 85ms/step - loss: 0.1213 - categorical_accuracy: 0.9529\n",
            "Epoch 54/200\n",
            "3/3 [==============================] - 0s 61ms/step - loss: 0.2029 - categorical_accuracy: 0.9176\n",
            "Epoch 55/200\n",
            "3/3 [==============================] - 0s 66ms/step - loss: 0.0732 - categorical_accuracy: 0.9765\n",
            "Epoch 56/200\n",
            "3/3 [==============================] - 0s 66ms/step - loss: 0.0742 - categorical_accuracy: 0.9882\n",
            "Epoch 57/200\n",
            "3/3 [==============================] - 0s 55ms/step - loss: 0.0897 - categorical_accuracy: 0.9647\n",
            "Epoch 58/200\n",
            "3/3 [==============================] - 0s 71ms/step - loss: 0.0728 - categorical_accuracy: 0.9765\n",
            "Epoch 59/200\n",
            "3/3 [==============================] - 0s 57ms/step - loss: 0.0611 - categorical_accuracy: 0.9882\n",
            "Epoch 60/200\n",
            "3/3 [==============================] - 0s 60ms/step - loss: 0.0643 - categorical_accuracy: 0.9882\n",
            "Epoch 61/200\n",
            "3/3 [==============================] - 0s 56ms/step - loss: 0.0966 - categorical_accuracy: 0.9765\n",
            "Epoch 62/200\n",
            "3/3 [==============================] - 0s 54ms/step - loss: 0.0294 - categorical_accuracy: 1.0000\n",
            "Epoch 63/200\n",
            "3/3 [==============================] - 0s 56ms/step - loss: 0.0360 - categorical_accuracy: 1.0000\n",
            "Epoch 64/200\n",
            "3/3 [==============================] - 0s 54ms/step - loss: 0.0459 - categorical_accuracy: 0.9765\n",
            "Epoch 65/200\n",
            "3/3 [==============================] - 0s 55ms/step - loss: 0.0221 - categorical_accuracy: 1.0000\n",
            "Epoch 66/200\n",
            "3/3 [==============================] - 0s 57ms/step - loss: 0.0222 - categorical_accuracy: 1.0000\n",
            "Epoch 67/200\n",
            "3/3 [==============================] - 0s 57ms/step - loss: 0.0182 - categorical_accuracy: 1.0000\n",
            "Epoch 68/200\n",
            "3/3 [==============================] - 0s 55ms/step - loss: 0.0146 - categorical_accuracy: 1.0000\n",
            "Epoch 69/200\n",
            "3/3 [==============================] - 0s 65ms/step - loss: 0.0146 - categorical_accuracy: 1.0000\n",
            "Epoch 70/200\n",
            "3/3 [==============================] - 0s 56ms/step - loss: 0.0136 - categorical_accuracy: 1.0000\n",
            "Epoch 71/200\n",
            "3/3 [==============================] - 0s 55ms/step - loss: 0.0107 - categorical_accuracy: 1.0000\n",
            "Epoch 72/200\n",
            "3/3 [==============================] - 0s 58ms/step - loss: 0.0104 - categorical_accuracy: 1.0000\n",
            "Epoch 73/200\n",
            "3/3 [==============================] - 0s 60ms/step - loss: 0.0100 - categorical_accuracy: 1.0000\n",
            "Epoch 74/200\n",
            "3/3 [==============================] - 0s 55ms/step - loss: 0.0093 - categorical_accuracy: 1.0000\n",
            "Epoch 75/200\n",
            "3/3 [==============================] - 0s 63ms/step - loss: 0.0087 - categorical_accuracy: 1.0000\n",
            "Epoch 76/200\n",
            "3/3 [==============================] - 0s 61ms/step - loss: 0.0084 - categorical_accuracy: 1.0000\n",
            "Epoch 77/200\n",
            "3/3 [==============================] - 0s 65ms/step - loss: 0.0081 - categorical_accuracy: 1.0000\n",
            "Epoch 78/200\n",
            "3/3 [==============================] - 0s 56ms/step - loss: 0.0078 - categorical_accuracy: 1.0000\n",
            "Epoch 79/200\n",
            "3/3 [==============================] - 0s 58ms/step - loss: 0.0075 - categorical_accuracy: 1.0000\n",
            "Epoch 80/200\n",
            "3/3 [==============================] - 0s 53ms/step - loss: 0.0073 - categorical_accuracy: 1.0000\n",
            "Epoch 81/200\n",
            "3/3 [==============================] - 0s 58ms/step - loss: 0.0070 - categorical_accuracy: 1.0000\n",
            "Epoch 82/200\n",
            "3/3 [==============================] - 0s 54ms/step - loss: 0.0068 - categorical_accuracy: 1.0000\n",
            "Epoch 83/200\n",
            "3/3 [==============================] - 0s 59ms/step - loss: 0.0066 - categorical_accuracy: 1.0000\n",
            "Epoch 84/200\n",
            "3/3 [==============================] - 0s 61ms/step - loss: 0.0064 - categorical_accuracy: 1.0000\n",
            "Epoch 85/200\n",
            "3/3 [==============================] - 0s 59ms/step - loss: 0.0063 - categorical_accuracy: 1.0000\n",
            "Epoch 86/200\n",
            "3/3 [==============================] - 0s 59ms/step - loss: 0.0061 - categorical_accuracy: 1.0000\n",
            "Epoch 87/200\n",
            "3/3 [==============================] - 0s 58ms/step - loss: 0.0060 - categorical_accuracy: 1.0000\n",
            "Epoch 88/200\n",
            "3/3 [==============================] - 0s 63ms/step - loss: 0.0058 - categorical_accuracy: 1.0000\n",
            "Epoch 89/200\n",
            "3/3 [==============================] - 0s 63ms/step - loss: 0.0057 - categorical_accuracy: 1.0000\n",
            "Epoch 90/200\n",
            "3/3 [==============================] - 0s 60ms/step - loss: 0.0055 - categorical_accuracy: 1.0000\n",
            "Epoch 91/200\n",
            "3/3 [==============================] - 0s 58ms/step - loss: 0.0054 - categorical_accuracy: 1.0000\n",
            "Epoch 92/200\n",
            "3/3 [==============================] - 0s 69ms/step - loss: 0.0053 - categorical_accuracy: 1.0000\n",
            "Epoch 93/200\n",
            "3/3 [==============================] - 0s 58ms/step - loss: 0.0052 - categorical_accuracy: 1.0000\n",
            "Epoch 94/200\n",
            "3/3 [==============================] - 0s 64ms/step - loss: 0.0051 - categorical_accuracy: 1.0000\n",
            "Epoch 95/200\n",
            "3/3 [==============================] - 0s 101ms/step - loss: 0.0050 - categorical_accuracy: 1.0000\n",
            "Epoch 96/200\n",
            "3/3 [==============================] - 0s 100ms/step - loss: 0.0049 - categorical_accuracy: 1.0000\n",
            "Epoch 97/200\n",
            "3/3 [==============================] - 0s 100ms/step - loss: 0.0048 - categorical_accuracy: 1.0000\n",
            "Epoch 98/200\n",
            "3/3 [==============================] - 0s 94ms/step - loss: 0.0047 - categorical_accuracy: 1.0000\n",
            "Epoch 99/200\n",
            "3/3 [==============================] - 0s 93ms/step - loss: 0.0046 - categorical_accuracy: 1.0000\n",
            "Epoch 100/200\n",
            "3/3 [==============================] - 0s 104ms/step - loss: 0.0045 - categorical_accuracy: 1.0000\n",
            "Epoch 101/200\n",
            "3/3 [==============================] - 0s 95ms/step - loss: 0.0044 - categorical_accuracy: 1.0000\n",
            "Epoch 102/200\n",
            "3/3 [==============================] - 0s 98ms/step - loss: 0.0043 - categorical_accuracy: 1.0000\n",
            "Epoch 103/200\n",
            "3/3 [==============================] - 0s 100ms/step - loss: 0.0043 - categorical_accuracy: 1.0000\n",
            "Epoch 104/200\n",
            "3/3 [==============================] - 0s 95ms/step - loss: 0.0042 - categorical_accuracy: 1.0000\n",
            "Epoch 105/200\n",
            "3/3 [==============================] - 0s 108ms/step - loss: 0.0041 - categorical_accuracy: 1.0000\n",
            "Epoch 106/200\n",
            "3/3 [==============================] - 0s 93ms/step - loss: 0.0040 - categorical_accuracy: 1.0000\n",
            "Epoch 107/200\n",
            "3/3 [==============================] - 0s 99ms/step - loss: 0.0040 - categorical_accuracy: 1.0000\n",
            "Epoch 108/200\n",
            "3/3 [==============================] - 0s 97ms/step - loss: 0.0039 - categorical_accuracy: 1.0000\n",
            "Epoch 109/200\n",
            "3/3 [==============================] - 0s 105ms/step - loss: 0.0038 - categorical_accuracy: 1.0000\n",
            "Epoch 110/200\n",
            "3/3 [==============================] - 0s 62ms/step - loss: 0.0038 - categorical_accuracy: 1.0000\n",
            "Epoch 111/200\n",
            "3/3 [==============================] - 0s 69ms/step - loss: 0.0037 - categorical_accuracy: 1.0000\n",
            "Epoch 112/200\n",
            "3/3 [==============================] - 0s 57ms/step - loss: 0.0036 - categorical_accuracy: 1.0000\n",
            "Epoch 113/200\n",
            "3/3 [==============================] - 0s 60ms/step - loss: 0.0036 - categorical_accuracy: 1.0000\n",
            "Epoch 114/200\n",
            "3/3 [==============================] - 0s 59ms/step - loss: 0.0035 - categorical_accuracy: 1.0000\n",
            "Epoch 115/200\n",
            "3/3 [==============================] - 0s 59ms/step - loss: 0.0035 - categorical_accuracy: 1.0000\n",
            "Epoch 116/200\n",
            "3/3 [==============================] - 0s 59ms/step - loss: 0.0034 - categorical_accuracy: 1.0000\n",
            "Epoch 117/200\n",
            "3/3 [==============================] - 0s 61ms/step - loss: 0.0034 - categorical_accuracy: 1.0000\n",
            "Epoch 118/200\n",
            "3/3 [==============================] - 0s 58ms/step - loss: 0.0033 - categorical_accuracy: 1.0000\n",
            "Epoch 119/200\n",
            "3/3 [==============================] - 0s 60ms/step - loss: 0.0033 - categorical_accuracy: 1.0000\n",
            "Epoch 120/200\n",
            "3/3 [==============================] - 0s 63ms/step - loss: 0.0032 - categorical_accuracy: 1.0000\n",
            "Epoch 121/200\n",
            "3/3 [==============================] - 0s 60ms/step - loss: 0.0032 - categorical_accuracy: 1.0000\n",
            "Epoch 122/200\n",
            "3/3 [==============================] - 0s 67ms/step - loss: 0.0031 - categorical_accuracy: 1.0000\n",
            "Epoch 123/200\n",
            "3/3 [==============================] - 0s 61ms/step - loss: 0.0031 - categorical_accuracy: 1.0000\n",
            "Epoch 124/200\n",
            "3/3 [==============================] - 0s 60ms/step - loss: 0.0031 - categorical_accuracy: 1.0000\n",
            "Epoch 125/200\n",
            "3/3 [==============================] - 0s 55ms/step - loss: 0.0030 - categorical_accuracy: 1.0000\n",
            "Epoch 126/200\n",
            "3/3 [==============================] - 0s 59ms/step - loss: 0.0030 - categorical_accuracy: 1.0000\n",
            "Epoch 127/200\n",
            "3/3 [==============================] - 0s 61ms/step - loss: 0.0029 - categorical_accuracy: 1.0000\n",
            "Epoch 128/200\n",
            "3/3 [==============================] - 0s 64ms/step - loss: 0.0029 - categorical_accuracy: 1.0000\n",
            "Epoch 129/200\n",
            "3/3 [==============================] - 0s 71ms/step - loss: 0.0029 - categorical_accuracy: 1.0000\n",
            "Epoch 130/200\n",
            "3/3 [==============================] - 0s 65ms/step - loss: 0.0028 - categorical_accuracy: 1.0000\n",
            "Epoch 131/200\n",
            "3/3 [==============================] - 0s 66ms/step - loss: 0.0028 - categorical_accuracy: 1.0000\n",
            "Epoch 132/200\n",
            "3/3 [==============================] - 0s 60ms/step - loss: 0.0027 - categorical_accuracy: 1.0000\n",
            "Epoch 133/200\n",
            "3/3 [==============================] - 0s 68ms/step - loss: 0.0027 - categorical_accuracy: 1.0000\n",
            "Epoch 134/200\n",
            "3/3 [==============================] - 0s 56ms/step - loss: 0.0027 - categorical_accuracy: 1.0000\n",
            "Epoch 135/200\n",
            "3/3 [==============================] - 0s 59ms/step - loss: 0.0026 - categorical_accuracy: 1.0000\n",
            "Epoch 136/200\n",
            "3/3 [==============================] - 0s 58ms/step - loss: 0.0026 - categorical_accuracy: 1.0000\n",
            "Epoch 137/200\n",
            "3/3 [==============================] - 0s 60ms/step - loss: 0.0026 - categorical_accuracy: 1.0000\n",
            "Epoch 138/200\n",
            "3/3 [==============================] - 0s 59ms/step - loss: 0.0025 - categorical_accuracy: 1.0000\n",
            "Epoch 139/200\n",
            "3/3 [==============================] - 0s 59ms/step - loss: 0.0025 - categorical_accuracy: 1.0000\n",
            "Epoch 140/200\n",
            "3/3 [==============================] - 0s 55ms/step - loss: 0.0025 - categorical_accuracy: 1.0000\n",
            "Epoch 141/200\n",
            "3/3 [==============================] - 0s 58ms/step - loss: 0.0025 - categorical_accuracy: 1.0000\n",
            "Epoch 142/200\n",
            "3/3 [==============================] - 0s 61ms/step - loss: 0.0024 - categorical_accuracy: 1.0000\n",
            "Epoch 143/200\n",
            "3/3 [==============================] - 0s 58ms/step - loss: 0.0024 - categorical_accuracy: 1.0000\n",
            "Epoch 144/200\n",
            "3/3 [==============================] - 0s 54ms/step - loss: 0.0024 - categorical_accuracy: 1.0000\n",
            "Epoch 145/200\n",
            "3/3 [==============================] - 0s 55ms/step - loss: 0.0023 - categorical_accuracy: 1.0000\n",
            "Epoch 146/200\n",
            "3/3 [==============================] - 0s 62ms/step - loss: 0.0023 - categorical_accuracy: 1.0000\n",
            "Epoch 147/200\n",
            "3/3 [==============================] - 0s 57ms/step - loss: 0.0023 - categorical_accuracy: 1.0000\n",
            "Epoch 148/200\n",
            "3/3 [==============================] - 0s 62ms/step - loss: 0.0023 - categorical_accuracy: 1.0000\n",
            "Epoch 149/200\n",
            "3/3 [==============================] - 0s 60ms/step - loss: 0.0022 - categorical_accuracy: 1.0000\n",
            "Epoch 150/200\n",
            "3/3 [==============================] - 0s 69ms/step - loss: 0.0022 - categorical_accuracy: 1.0000\n",
            "Epoch 151/200\n",
            "3/3 [==============================] - 0s 58ms/step - loss: 0.0022 - categorical_accuracy: 1.0000\n",
            "Epoch 152/200\n",
            "3/3 [==============================] - 0s 59ms/step - loss: 0.0022 - categorical_accuracy: 1.0000\n",
            "Epoch 153/200\n",
            "3/3 [==============================] - 0s 62ms/step - loss: 0.0021 - categorical_accuracy: 1.0000\n",
            "Epoch 154/200\n",
            "3/3 [==============================] - 0s 56ms/step - loss: 0.0021 - categorical_accuracy: 1.0000\n",
            "Epoch 155/200\n",
            "3/3 [==============================] - 0s 59ms/step - loss: 0.0021 - categorical_accuracy: 1.0000\n",
            "Epoch 156/200\n",
            "3/3 [==============================] - 0s 55ms/step - loss: 0.0021 - categorical_accuracy: 1.0000\n",
            "Epoch 157/200\n",
            "3/3 [==============================] - 0s 62ms/step - loss: 0.0020 - categorical_accuracy: 1.0000\n",
            "Epoch 158/200\n",
            "3/3 [==============================] - 0s 62ms/step - loss: 0.0020 - categorical_accuracy: 1.0000\n",
            "Epoch 159/200\n",
            "3/3 [==============================] - 0s 61ms/step - loss: 0.0020 - categorical_accuracy: 1.0000\n",
            "Epoch 160/200\n",
            "3/3 [==============================] - 0s 55ms/step - loss: 0.0020 - categorical_accuracy: 1.0000\n",
            "Epoch 161/200\n",
            "3/3 [==============================] - 0s 64ms/step - loss: 0.0020 - categorical_accuracy: 1.0000\n",
            "Epoch 162/200\n",
            "3/3 [==============================] - 0s 60ms/step - loss: 0.0019 - categorical_accuracy: 1.0000\n",
            "Epoch 163/200\n",
            "3/3 [==============================] - 0s 59ms/step - loss: 0.0019 - categorical_accuracy: 1.0000\n",
            "Epoch 164/200\n",
            "3/3 [==============================] - 0s 93ms/step - loss: 0.0019 - categorical_accuracy: 1.0000\n",
            "Epoch 165/200\n",
            "3/3 [==============================] - 0s 96ms/step - loss: 0.0019 - categorical_accuracy: 1.0000\n",
            "Epoch 166/200\n",
            "3/3 [==============================] - 0s 100ms/step - loss: 0.0019 - categorical_accuracy: 1.0000\n",
            "Epoch 167/200\n",
            "3/3 [==============================] - 0s 102ms/step - loss: 0.0019 - categorical_accuracy: 1.0000\n",
            "Epoch 168/200\n",
            "3/3 [==============================] - 0s 100ms/step - loss: 0.0018 - categorical_accuracy: 1.0000\n",
            "Epoch 169/200\n",
            "3/3 [==============================] - 0s 99ms/step - loss: 0.0018 - categorical_accuracy: 1.0000\n",
            "Epoch 170/200\n",
            "3/3 [==============================] - 0s 102ms/step - loss: 0.0018 - categorical_accuracy: 1.0000\n",
            "Epoch 171/200\n",
            "3/3 [==============================] - 0s 95ms/step - loss: 0.0018 - categorical_accuracy: 1.0000\n",
            "Epoch 172/200\n",
            "3/3 [==============================] - 0s 92ms/step - loss: 0.0018 - categorical_accuracy: 1.0000\n",
            "Epoch 173/200\n",
            "3/3 [==============================] - 0s 116ms/step - loss: 0.0017 - categorical_accuracy: 1.0000\n",
            "Epoch 174/200\n",
            "3/3 [==============================] - 0s 123ms/step - loss: 0.0017 - categorical_accuracy: 1.0000\n",
            "Epoch 175/200\n",
            "3/3 [==============================] - 0s 128ms/step - loss: 0.0017 - categorical_accuracy: 1.0000\n",
            "Epoch 176/200\n",
            "3/3 [==============================] - 0s 112ms/step - loss: 0.0017 - categorical_accuracy: 1.0000\n",
            "Epoch 177/200\n",
            "3/3 [==============================] - 0s 124ms/step - loss: 0.0017 - categorical_accuracy: 1.0000\n",
            "Epoch 178/200\n",
            "3/3 [==============================] - 0s 119ms/step - loss: 0.0017 - categorical_accuracy: 1.0000\n",
            "Epoch 179/200\n",
            "3/3 [==============================] - 0s 59ms/step - loss: 0.0017 - categorical_accuracy: 1.0000\n",
            "Epoch 180/200\n",
            "3/3 [==============================] - 0s 59ms/step - loss: 0.0016 - categorical_accuracy: 1.0000\n",
            "Epoch 181/200\n",
            "3/3 [==============================] - 0s 54ms/step - loss: 0.0016 - categorical_accuracy: 1.0000\n",
            "Epoch 182/200\n",
            "3/3 [==============================] - 0s 57ms/step - loss: 0.0016 - categorical_accuracy: 1.0000\n",
            "Epoch 183/200\n",
            "3/3 [==============================] - 0s 60ms/step - loss: 0.0016 - categorical_accuracy: 1.0000\n",
            "Epoch 184/200\n",
            "3/3 [==============================] - 0s 67ms/step - loss: 0.0016 - categorical_accuracy: 1.0000\n",
            "Epoch 185/200\n",
            "3/3 [==============================] - 0s 61ms/step - loss: 0.0016 - categorical_accuracy: 1.0000\n",
            "Epoch 186/200\n",
            "3/3 [==============================] - 0s 57ms/step - loss: 0.0016 - categorical_accuracy: 1.0000\n",
            "Epoch 187/200\n",
            "3/3 [==============================] - 0s 56ms/step - loss: 0.0015 - categorical_accuracy: 1.0000\n",
            "Epoch 188/200\n",
            "3/3 [==============================] - 0s 60ms/step - loss: 0.0015 - categorical_accuracy: 1.0000\n",
            "Epoch 189/200\n",
            "3/3 [==============================] - 0s 58ms/step - loss: 0.0015 - categorical_accuracy: 1.0000\n",
            "Epoch 190/200\n",
            "3/3 [==============================] - 0s 66ms/step - loss: 0.0015 - categorical_accuracy: 1.0000\n",
            "Epoch 191/200\n",
            "3/3 [==============================] - 0s 59ms/step - loss: 0.0015 - categorical_accuracy: 1.0000\n",
            "Epoch 192/200\n",
            "3/3 [==============================] - 0s 61ms/step - loss: 0.0015 - categorical_accuracy: 1.0000\n",
            "Epoch 193/200\n",
            "3/3 [==============================] - 0s 61ms/step - loss: 0.0015 - categorical_accuracy: 1.0000\n",
            "Epoch 194/200\n",
            "3/3 [==============================] - 0s 60ms/step - loss: 0.0014 - categorical_accuracy: 1.0000\n",
            "Epoch 195/200\n",
            "3/3 [==============================] - 0s 67ms/step - loss: 0.0014 - categorical_accuracy: 1.0000\n",
            "Epoch 196/200\n",
            "3/3 [==============================] - 0s 62ms/step - loss: 0.0014 - categorical_accuracy: 1.0000\n",
            "Epoch 197/200\n",
            "3/3 [==============================] - 0s 59ms/step - loss: 0.0014 - categorical_accuracy: 1.0000\n",
            "Epoch 198/200\n",
            "3/3 [==============================] - 0s 58ms/step - loss: 0.0014 - categorical_accuracy: 1.0000\n",
            "Epoch 199/200\n",
            "3/3 [==============================] - 0s 60ms/step - loss: 0.0014 - categorical_accuracy: 1.0000\n",
            "Epoch 200/200\n",
            "3/3 [==============================] - 0s 60ms/step - loss: 0.0014 - categorical_accuracy: 1.0000\n"
          ]
        },
        {
          "output_type": "error",
          "ename": "KeyboardInterrupt",
          "evalue": "",
          "traceback": [
            "\u001b[0;31m---------------------------------------------------------------------------\u001b[0m",
            "\u001b[0;31mKeyboardInterrupt\u001b[0m                         Traceback (most recent call last)",
            "\u001b[0;32m<ipython-input-33-2d4eae74e1a9>\u001b[0m in \u001b[0;36m<cell line: 1>\u001b[0;34m()\u001b[0m\n\u001b[0;32m----> 1\u001b[0;31m \u001b[0mmodel\u001b[0m\u001b[0;34m.\u001b[0m\u001b[0mfit\u001b[0m\u001b[0;34m(\u001b[0m\u001b[0mX_train\u001b[0m\u001b[0;34m,\u001b[0m \u001b[0my_train\u001b[0m\u001b[0;34m,\u001b[0m \u001b[0mepochs\u001b[0m\u001b[0;34m=\u001b[0m\u001b[0;36m200\u001b[0m\u001b[0;34m,\u001b[0m \u001b[0mcallbacks\u001b[0m\u001b[0;34m=\u001b[0m\u001b[0;34m[\u001b[0m\u001b[0mtb_callback\u001b[0m\u001b[0;34m]\u001b[0m\u001b[0;34m)\u001b[0m\u001b[0;34m\u001b[0m\u001b[0;34m\u001b[0m\u001b[0m\n\u001b[0m",
            "\u001b[0;32m/usr/local/lib/python3.10/dist-packages/keras/src/utils/traceback_utils.py\u001b[0m in \u001b[0;36merror_handler\u001b[0;34m(*args, **kwargs)\u001b[0m\n\u001b[1;32m     63\u001b[0m         \u001b[0mfiltered_tb\u001b[0m \u001b[0;34m=\u001b[0m \u001b[0;32mNone\u001b[0m\u001b[0;34m\u001b[0m\u001b[0;34m\u001b[0m\u001b[0m\n\u001b[1;32m     64\u001b[0m         \u001b[0;32mtry\u001b[0m\u001b[0;34m:\u001b[0m\u001b[0;34m\u001b[0m\u001b[0;34m\u001b[0m\u001b[0m\n\u001b[0;32m---> 65\u001b[0;31m             \u001b[0;32mreturn\u001b[0m \u001b[0mfn\u001b[0m\u001b[0;34m(\u001b[0m\u001b[0;34m*\u001b[0m\u001b[0margs\u001b[0m\u001b[0;34m,\u001b[0m \u001b[0;34m**\u001b[0m\u001b[0mkwargs\u001b[0m\u001b[0;34m)\u001b[0m\u001b[0;34m\u001b[0m\u001b[0;34m\u001b[0m\u001b[0m\n\u001b[0m\u001b[1;32m     66\u001b[0m         \u001b[0;32mexcept\u001b[0m \u001b[0mException\u001b[0m \u001b[0;32mas\u001b[0m \u001b[0me\u001b[0m\u001b[0;34m:\u001b[0m\u001b[0;34m\u001b[0m\u001b[0;34m\u001b[0m\u001b[0m\n\u001b[1;32m     67\u001b[0m             \u001b[0mfiltered_tb\u001b[0m \u001b[0;34m=\u001b[0m \u001b[0m_process_traceback_frames\u001b[0m\u001b[0;34m(\u001b[0m\u001b[0me\u001b[0m\u001b[0;34m.\u001b[0m\u001b[0m__traceback__\u001b[0m\u001b[0;34m)\u001b[0m\u001b[0;34m\u001b[0m\u001b[0;34m\u001b[0m\u001b[0m\n",
            "\u001b[0;31mKeyboardInterrupt\u001b[0m: "
          ]
        }
      ]
    },
    {
      "cell_type": "code",
      "source": [
        "model.summary()"
      ],
      "metadata": {
        "colab": {
          "base_uri": "https://localhost:8080/"
        },
        "id": "x6a32FZslbHV",
        "outputId": "0f65029b-9fd6-4143-c7e1-074ed5a936bb"
      },
      "execution_count": null,
      "outputs": [
        {
          "output_type": "stream",
          "name": "stdout",
          "text": [
            "Model: \"sequential_4\"\n",
            "_________________________________________________________________\n",
            " Layer (type)                Output Shape              Param #   \n",
            "=================================================================\n",
            " lstm_11 (LSTM)              (None, 30, 64)            82688     \n",
            "                                                                 \n",
            " lstm_12 (LSTM)              (None, 30, 64)            33024     \n",
            "                                                                 \n",
            " lstm_13 (LSTM)              (None, 32)                12416     \n",
            "                                                                 \n",
            " dense_9 (Dense)             (None, 32)                1056      \n",
            "                                                                 \n",
            " dense_10 (Dense)            (None, 32)                1056      \n",
            "                                                                 \n",
            " dense_11 (Dense)            (None, 3)                 99        \n",
            "                                                                 \n",
            "=================================================================\n",
            "Total params: 130339 (509.14 KB)\n",
            "Trainable params: 130339 (509.14 KB)\n",
            "Non-trainable params: 0 (0.00 Byte)\n",
            "_________________________________________________________________\n"
          ]
        }
      ]
    },
    {
      "cell_type": "markdown",
      "source": [
        "## 8. Make predictions"
      ],
      "metadata": {
        "id": "LTrn1Dh5qeVV"
      }
    },
    {
      "cell_type": "code",
      "source": [
        "res = model.predict(X_test)"
      ],
      "metadata": {
        "colab": {
          "base_uri": "https://localhost:8080/"
        },
        "id": "zqtrfneWo2qT",
        "outputId": "fa894af8-480e-46f2-a7e2-278247220723"
      },
      "execution_count": null,
      "outputs": [
        {
          "output_type": "stream",
          "name": "stdout",
          "text": [
            "1/1 [==============================] - 2s 2s/step\n"
          ]
        }
      ]
    },
    {
      "cell_type": "code",
      "source": [
        "actions[np.argmax(res[4])]"
      ],
      "metadata": {
        "colab": {
          "base_uri": "https://localhost:8080/",
          "height": 35
        },
        "id": "SFomuBELqdqv",
        "outputId": "80d7e5e4-d1b6-45d0-9a9e-409b3dd9708a"
      },
      "execution_count": null,
      "outputs": [
        {
          "output_type": "execute_result",
          "data": {
            "text/plain": [
              "'thanks'"
            ],
            "application/vnd.google.colaboratory.intrinsic+json": {
              "type": "string"
            }
          },
          "metadata": {},
          "execution_count": 36
        }
      ]
    },
    {
      "cell_type": "code",
      "source": [
        "actions[np.argmax(y_test[4])]"
      ],
      "metadata": {
        "colab": {
          "base_uri": "https://localhost:8080/",
          "height": 35
        },
        "id": "ft3Rs1SuqnN8",
        "outputId": "c247047e-8da7-4149-b00d-30f1d7eb99c3"
      },
      "execution_count": null,
      "outputs": [
        {
          "output_type": "execute_result",
          "data": {
            "text/plain": [
              "'thanks'"
            ],
            "application/vnd.google.colaboratory.intrinsic+json": {
              "type": "string"
            }
          },
          "metadata": {},
          "execution_count": 37
        }
      ]
    },
    {
      "cell_type": "markdown",
      "source": [
        "## 9. Save weights"
      ],
      "metadata": {
        "id": "AeQ9M484qq00"
      }
    },
    {
      "cell_type": "code",
      "source": [
        "model.save(\"2_without_facemesh.keras\")"
      ],
      "metadata": {
        "id": "wVvEQDXQqoe-"
      },
      "execution_count": null,
      "outputs": []
    },
    {
      "cell_type": "code",
      "source": [],
      "metadata": {
        "id": "ITsTBRS6qxAB"
      },
      "execution_count": null,
      "outputs": []
    },
    {
      "cell_type": "markdown",
      "source": [
        "## 10. Evaluation using confusion matrix and accuracy"
      ],
      "metadata": {
        "id": "9K3Hp-Hpr-kP"
      }
    },
    {
      "cell_type": "code",
      "source": [
        "from sklearn.metrics import multilabel_confusion_matrix, accuracy_score"
      ],
      "metadata": {
        "id": "jAYlJpGEsFmc"
      },
      "execution_count": null,
      "outputs": []
    },
    {
      "cell_type": "code",
      "source": [
        "yhat = model.predict(X_test)"
      ],
      "metadata": {
        "colab": {
          "base_uri": "https://localhost:8080/"
        },
        "id": "J6MEHgWOsGJc",
        "outputId": "7b572c30-586a-40ff-f807-256a1fd348f8"
      },
      "execution_count": null,
      "outputs": [
        {
          "output_type": "stream",
          "name": "stdout",
          "text": [
            "1/1 [==============================] - 0s 42ms/step\n"
          ]
        }
      ]
    },
    {
      "cell_type": "code",
      "source": [
        "ytrue = np.argmax(y_test, axis=1).tolist()\n",
        "yhat = np.argmax(yhat, axis=1).tolist()"
      ],
      "metadata": {
        "id": "q2XQmD0BsHZo"
      },
      "execution_count": null,
      "outputs": []
    },
    {
      "cell_type": "code",
      "source": [
        "multilabel_confusion_matrix(ytrue, yhat)"
      ],
      "metadata": {
        "colab": {
          "base_uri": "https://localhost:8080/"
        },
        "id": "ndv7ahAXsIZO",
        "outputId": "72481af1-32be-4f12-ca5f-cd93d6a32570"
      },
      "execution_count": null,
      "outputs": [
        {
          "output_type": "execute_result",
          "data": {
            "text/plain": [
              "array([[[0., 5.],\n",
              "        [0., 0.]],\n",
              "\n",
              "       [[1., 0.],\n",
              "        [4., 0.]],\n",
              "\n",
              "       [[4., 0.],\n",
              "        [1., 0.]]])"
            ]
          },
          "metadata": {},
          "execution_count": 27
        }
      ]
    },
    {
      "cell_type": "code",
      "source": [
        "accuracy_score(ytrue, yhat)"
      ],
      "metadata": {
        "colab": {
          "base_uri": "https://localhost:8080/"
        },
        "id": "ruSTrWL-sJb5",
        "outputId": "222d9d42-a884-4519-be17-0f239caf3137"
      },
      "execution_count": null,
      "outputs": [
        {
          "output_type": "execute_result",
          "data": {
            "text/plain": [
              "0.0"
            ]
          },
          "metadata": {},
          "execution_count": 28
        }
      ]
    },
    {
      "cell_type": "code",
      "source": [],
      "metadata": {
        "id": "S5bRPFz9xu9k"
      },
      "execution_count": null,
      "outputs": []
    },
    {
      "cell_type": "code",
      "source": [],
      "metadata": {
        "id": "GkzMUbgwxvYL"
      },
      "execution_count": null,
      "outputs": []
    },
    {
      "cell_type": "code",
      "source": [
        "accuracy_score??\n"
      ],
      "metadata": {
        "id": "tqRmD88AsMOW"
      },
      "execution_count": null,
      "outputs": []
    },
    {
      "cell_type": "code",
      "source": [],
      "metadata": {
        "id": "eH_XiIOetFOC"
      },
      "execution_count": null,
      "outputs": []
    }
  ]
}